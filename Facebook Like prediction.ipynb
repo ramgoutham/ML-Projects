{
 "cells": [
  {
   "cell_type": "markdown",
   "metadata": {},
   "source": [
    "<h1 class=\"list-group-item list-group-item-action active\" data-toggle=\"list\"  role=\"tab\" aria-controls=\"home\">SUPERVISED LEARNING REGRESSION PROJECT - FACEBOOK LIKE PREDICTION </h1>\n",
    "     \n"
   ]
  },
  {
   "cell_type": "code",
   "execution_count": 2,
   "metadata": {},
   "outputs": [],
   "source": [
    "import numpy as np\n",
    "import pandas as pd \n",
    "import seaborn as sns\n",
    "import matplotlib.pyplot as plt"
   ]
  },
  {
   "cell_type": "code",
   "execution_count": 3,
   "metadata": {},
   "outputs": [],
   "source": [
    "import warnings\n",
    "warnings.filterwarnings(\"ignore\")"
   ]
  },
  {
   "cell_type": "code",
   "execution_count": 4,
   "metadata": {},
   "outputs": [],
   "source": [
    "from statsmodels.stats.outliers_influence import variance_inflation_factor"
   ]
  },
  {
   "cell_type": "code",
   "execution_count": 5,
   "metadata": {},
   "outputs": [
    {
     "data": {
      "text/html": [
       "<div>\n",
       "<style scoped>\n",
       "    .dataframe tbody tr th:only-of-type {\n",
       "        vertical-align: middle;\n",
       "    }\n",
       "\n",
       "    .dataframe tbody tr th {\n",
       "        vertical-align: top;\n",
       "    }\n",
       "\n",
       "    .dataframe thead th {\n",
       "        text-align: right;\n",
       "    }\n",
       "</style>\n",
       "<table border=\"1\" class=\"dataframe\">\n",
       "  <thead>\n",
       "    <tr style=\"text-align: right;\">\n",
       "      <th></th>\n",
       "      <th>userid</th>\n",
       "      <th>age</th>\n",
       "      <th>dob_day</th>\n",
       "      <th>dob_year</th>\n",
       "      <th>dob_month</th>\n",
       "      <th>gender</th>\n",
       "      <th>tenure</th>\n",
       "      <th>friend_count</th>\n",
       "      <th>friendships_initiated</th>\n",
       "      <th>likes</th>\n",
       "      <th>likes_received</th>\n",
       "      <th>mobile_likes</th>\n",
       "      <th>mobile_likes_received</th>\n",
       "      <th>www_likes</th>\n",
       "      <th>www_likes_received</th>\n",
       "    </tr>\n",
       "  </thead>\n",
       "  <tbody>\n",
       "    <tr>\n",
       "      <th>0</th>\n",
       "      <td>1098638</td>\n",
       "      <td>13</td>\n",
       "      <td>2</td>\n",
       "      <td>2000</td>\n",
       "      <td>2</td>\n",
       "      <td>male</td>\n",
       "      <td>0</td>\n",
       "      <td>0</td>\n",
       "      <td>0</td>\n",
       "      <td>1</td>\n",
       "      <td>0</td>\n",
       "      <td>0</td>\n",
       "      <td>0</td>\n",
       "      <td>1</td>\n",
       "      <td>0</td>\n",
       "    </tr>\n",
       "    <tr>\n",
       "      <th>1</th>\n",
       "      <td>2063204</td>\n",
       "      <td>14</td>\n",
       "      <td>22</td>\n",
       "      <td>1999</td>\n",
       "      <td>1</td>\n",
       "      <td>male</td>\n",
       "      <td>104</td>\n",
       "      <td>0</td>\n",
       "      <td>0</td>\n",
       "      <td>1</td>\n",
       "      <td>0</td>\n",
       "      <td>0</td>\n",
       "      <td>0</td>\n",
       "      <td>1</td>\n",
       "      <td>0</td>\n",
       "    </tr>\n",
       "    <tr>\n",
       "      <th>2</th>\n",
       "      <td>1579594</td>\n",
       "      <td>19</td>\n",
       "      <td>18</td>\n",
       "      <td>1994</td>\n",
       "      <td>10</td>\n",
       "      <td>female</td>\n",
       "      <td>212</td>\n",
       "      <td>0</td>\n",
       "      <td>0</td>\n",
       "      <td>1</td>\n",
       "      <td>0</td>\n",
       "      <td>0</td>\n",
       "      <td>0</td>\n",
       "      <td>1</td>\n",
       "      <td>0</td>\n",
       "    </tr>\n",
       "    <tr>\n",
       "      <th>3</th>\n",
       "      <td>1979672</td>\n",
       "      <td>21</td>\n",
       "      <td>1</td>\n",
       "      <td>1992</td>\n",
       "      <td>1</td>\n",
       "      <td>male</td>\n",
       "      <td>328</td>\n",
       "      <td>0</td>\n",
       "      <td>0</td>\n",
       "      <td>1</td>\n",
       "      <td>0</td>\n",
       "      <td>0</td>\n",
       "      <td>0</td>\n",
       "      <td>1</td>\n",
       "      <td>0</td>\n",
       "    </tr>\n",
       "    <tr>\n",
       "      <th>4</th>\n",
       "      <td>1344831</td>\n",
       "      <td>23</td>\n",
       "      <td>10</td>\n",
       "      <td>1990</td>\n",
       "      <td>2</td>\n",
       "      <td>male</td>\n",
       "      <td>580</td>\n",
       "      <td>0</td>\n",
       "      <td>0</td>\n",
       "      <td>1</td>\n",
       "      <td>0</td>\n",
       "      <td>0</td>\n",
       "      <td>0</td>\n",
       "      <td>1</td>\n",
       "      <td>0</td>\n",
       "    </tr>\n",
       "  </tbody>\n",
       "</table>\n",
       "</div>"
      ],
      "text/plain": [
       "    userid  age  dob_day  dob_year  dob_month  gender  tenure  friend_count  \\\n",
       "0  1098638   13        2      2000          2    male       0             0   \n",
       "1  2063204   14       22      1999          1    male     104             0   \n",
       "2  1579594   19       18      1994         10  female     212             0   \n",
       "3  1979672   21        1      1992          1    male     328             0   \n",
       "4  1344831   23       10      1990          2    male     580             0   \n",
       "\n",
       "   friendships_initiated  likes  likes_received  mobile_likes  \\\n",
       "0                      0      1               0             0   \n",
       "1                      0      1               0             0   \n",
       "2                      0      1               0             0   \n",
       "3                      0      1               0             0   \n",
       "4                      0      1               0             0   \n",
       "\n",
       "   mobile_likes_received  www_likes  www_likes_received  \n",
       "0                      0          1                   0  \n",
       "1                      0          1                   0  \n",
       "2                      0          1                   0  \n",
       "3                      0          1                   0  \n",
       "4                      0          1                   0  "
      ]
     },
     "execution_count": 5,
     "metadata": {},
     "output_type": "execute_result"
    }
   ],
   "source": [
    "mydf=pd.read_csv('Likes.csv')\n",
    "mydf.head()"
   ]
  },
  {
   "cell_type": "code",
   "execution_count": 7,
   "metadata": {},
   "outputs": [
    {
     "data": {
      "text/plain": [
       "userid                    int64\n",
       "age                       int64\n",
       "dob_day                   int64\n",
       "dob_year                  int64\n",
       "dob_month                 int64\n",
       "gender                   object\n",
       "tenure                    int64\n",
       "friend_count              int64\n",
       "friendships_initiated     int64\n",
       "likes                     int64\n",
       "likes_received            int64\n",
       "mobile_likes              int64\n",
       "mobile_likes_received     int64\n",
       "www_likes                 int64\n",
       "www_likes_received        int64\n",
       "dtype: object"
      ]
     },
     "execution_count": 7,
     "metadata": {},
     "output_type": "execute_result"
    }
   ],
   "source": [
    "mydf.dtypes"
   ]
  },
  {
   "cell_type": "code",
   "execution_count": 8,
   "metadata": {},
   "outputs": [
    {
     "name": "stdout",
     "output_type": "stream",
     "text": [
      "<class 'pandas.core.frame.DataFrame'>\n",
      "RangeIndex: 2104 entries, 0 to 2103\n",
      "Data columns (total 15 columns):\n",
      " #   Column                 Non-Null Count  Dtype \n",
      "---  ------                 --------------  ----- \n",
      " 0   userid                 2104 non-null   int64 \n",
      " 1   age                    2104 non-null   int64 \n",
      " 2   dob_day                2104 non-null   int64 \n",
      " 3   dob_year               2104 non-null   int64 \n",
      " 4   dob_month              2104 non-null   int64 \n",
      " 5   gender                 2102 non-null   object\n",
      " 6   tenure                 2104 non-null   int64 \n",
      " 7   friend_count           2104 non-null   int64 \n",
      " 8   friendships_initiated  2104 non-null   int64 \n",
      " 9   likes                  2104 non-null   int64 \n",
      " 10  likes_received         2104 non-null   int64 \n",
      " 11  mobile_likes           2104 non-null   int64 \n",
      " 12  mobile_likes_received  2104 non-null   int64 \n",
      " 13  www_likes              2104 non-null   int64 \n",
      " 14  www_likes_received     2104 non-null   int64 \n",
      "dtypes: int64(14), object(1)\n",
      "memory usage: 246.7+ KB\n"
     ]
    }
   ],
   "source": [
    "mydf.info()"
   ]
  },
  {
   "cell_type": "code",
   "execution_count": 10,
   "metadata": {},
   "outputs": [
    {
     "data": {
      "text/plain": [
       "userid                   0\n",
       "age                      0\n",
       "dob_day                  0\n",
       "dob_year                 0\n",
       "dob_month                0\n",
       "gender                   2\n",
       "tenure                   0\n",
       "friend_count             0\n",
       "friendships_initiated    0\n",
       "likes                    0\n",
       "likes_received           0\n",
       "mobile_likes             0\n",
       "mobile_likes_received    0\n",
       "www_likes                0\n",
       "www_likes_received       0\n",
       "dtype: int64"
      ]
     },
     "execution_count": 10,
     "metadata": {},
     "output_type": "execute_result"
    }
   ],
   "source": [
    "mydf.isnull().sum()"
   ]
  },
  {
   "cell_type": "code",
   "execution_count": 11,
   "metadata": {},
   "outputs": [
    {
     "data": {
      "text/plain": [
       "male      1400\n",
       "female     702\n",
       "Name: gender, dtype: int64"
      ]
     },
     "execution_count": 11,
     "metadata": {},
     "output_type": "execute_result"
    }
   ],
   "source": [
    "mydf['gender'].value_counts()"
   ]
  },
  {
   "cell_type": "code",
   "execution_count": 12,
   "metadata": {},
   "outputs": [
    {
     "data": {
      "text/plain": [
       "male      1402\n",
       "female     702\n",
       "Name: gender, dtype: int64"
      ]
     },
     "execution_count": 12,
     "metadata": {},
     "output_type": "execute_result"
    }
   ],
   "source": [
    "mydf['gender'].fillna('male',inplace=True)\n",
    "mydf['gender'].value_counts()"
   ]
  },
  {
   "cell_type": "code",
   "execution_count": 14,
   "metadata": {},
   "outputs": [],
   "source": [
    "mydf.drop('userid',axis=1,inplace=True) #userid irrelevant"
   ]
  },
  {
   "cell_type": "code",
   "execution_count": 16,
   "metadata": {},
   "outputs": [
    {
     "data": {
      "text/html": [
       "<div>\n",
       "<style scoped>\n",
       "    .dataframe tbody tr th:only-of-type {\n",
       "        vertical-align: middle;\n",
       "    }\n",
       "\n",
       "    .dataframe tbody tr th {\n",
       "        vertical-align: top;\n",
       "    }\n",
       "\n",
       "    .dataframe thead th {\n",
       "        text-align: right;\n",
       "    }\n",
       "</style>\n",
       "<table border=\"1\" class=\"dataframe\">\n",
       "  <thead>\n",
       "    <tr style=\"text-align: right;\">\n",
       "      <th></th>\n",
       "      <th>count</th>\n",
       "      <th>mean</th>\n",
       "      <th>std</th>\n",
       "      <th>min</th>\n",
       "      <th>25%</th>\n",
       "      <th>50%</th>\n",
       "      <th>75%</th>\n",
       "      <th>max</th>\n",
       "    </tr>\n",
       "  </thead>\n",
       "  <tbody>\n",
       "    <tr>\n",
       "      <th>age</th>\n",
       "      <td>2104.0</td>\n",
       "      <td>33.427281</td>\n",
       "      <td>16.155287</td>\n",
       "      <td>13.0</td>\n",
       "      <td>22.00</td>\n",
       "      <td>28.0</td>\n",
       "      <td>41.25</td>\n",
       "      <td>108.0</td>\n",
       "    </tr>\n",
       "    <tr>\n",
       "      <th>dob_day</th>\n",
       "      <td>2104.0</td>\n",
       "      <td>13.144962</td>\n",
       "      <td>9.242513</td>\n",
       "      <td>1.0</td>\n",
       "      <td>4.75</td>\n",
       "      <td>12.5</td>\n",
       "      <td>21.00</td>\n",
       "      <td>31.0</td>\n",
       "    </tr>\n",
       "    <tr>\n",
       "      <th>dob_year</th>\n",
       "      <td>2104.0</td>\n",
       "      <td>1979.572719</td>\n",
       "      <td>16.155287</td>\n",
       "      <td>1905.0</td>\n",
       "      <td>1971.75</td>\n",
       "      <td>1985.0</td>\n",
       "      <td>1991.00</td>\n",
       "      <td>2000.0</td>\n",
       "    </tr>\n",
       "    <tr>\n",
       "      <th>dob_month</th>\n",
       "      <td>2104.0</td>\n",
       "      <td>5.882605</td>\n",
       "      <td>3.698839</td>\n",
       "      <td>1.0</td>\n",
       "      <td>2.00</td>\n",
       "      <td>6.0</td>\n",
       "      <td>9.00</td>\n",
       "      <td>12.0</td>\n",
       "    </tr>\n",
       "    <tr>\n",
       "      <th>tenure</th>\n",
       "      <td>2104.0</td>\n",
       "      <td>274.701046</td>\n",
       "      <td>297.508563</td>\n",
       "      <td>0.0</td>\n",
       "      <td>54.00</td>\n",
       "      <td>191.0</td>\n",
       "      <td>387.00</td>\n",
       "      <td>2303.0</td>\n",
       "    </tr>\n",
       "    <tr>\n",
       "      <th>friend_count</th>\n",
       "      <td>2104.0</td>\n",
       "      <td>2.039924</td>\n",
       "      <td>1.397070</td>\n",
       "      <td>0.0</td>\n",
       "      <td>1.00</td>\n",
       "      <td>2.0</td>\n",
       "      <td>3.00</td>\n",
       "      <td>5.0</td>\n",
       "    </tr>\n",
       "    <tr>\n",
       "      <th>friendships_initiated</th>\n",
       "      <td>2104.0</td>\n",
       "      <td>1.453422</td>\n",
       "      <td>1.242272</td>\n",
       "      <td>0.0</td>\n",
       "      <td>1.00</td>\n",
       "      <td>1.0</td>\n",
       "      <td>2.00</td>\n",
       "      <td>5.0</td>\n",
       "    </tr>\n",
       "    <tr>\n",
       "      <th>likes</th>\n",
       "      <td>2104.0</td>\n",
       "      <td>27.654468</td>\n",
       "      <td>169.454213</td>\n",
       "      <td>1.0</td>\n",
       "      <td>1.00</td>\n",
       "      <td>4.0</td>\n",
       "      <td>14.00</td>\n",
       "      <td>5937.0</td>\n",
       "    </tr>\n",
       "    <tr>\n",
       "      <th>likes_received</th>\n",
       "      <td>2104.0</td>\n",
       "      <td>7.934886</td>\n",
       "      <td>44.784909</td>\n",
       "      <td>0.0</td>\n",
       "      <td>0.00</td>\n",
       "      <td>1.0</td>\n",
       "      <td>3.00</td>\n",
       "      <td>1326.0</td>\n",
       "    </tr>\n",
       "    <tr>\n",
       "      <th>mobile_likes</th>\n",
       "      <td>2104.0</td>\n",
       "      <td>17.676331</td>\n",
       "      <td>155.249561</td>\n",
       "      <td>0.0</td>\n",
       "      <td>0.00</td>\n",
       "      <td>1.0</td>\n",
       "      <td>6.00</td>\n",
       "      <td>5704.0</td>\n",
       "    </tr>\n",
       "    <tr>\n",
       "      <th>mobile_likes_received</th>\n",
       "      <td>2104.0</td>\n",
       "      <td>4.091255</td>\n",
       "      <td>25.828290</td>\n",
       "      <td>0.0</td>\n",
       "      <td>0.00</td>\n",
       "      <td>0.0</td>\n",
       "      <td>2.00</td>\n",
       "      <td>679.0</td>\n",
       "    </tr>\n",
       "    <tr>\n",
       "      <th>www_likes</th>\n",
       "      <td>2104.0</td>\n",
       "      <td>9.978137</td>\n",
       "      <td>53.746481</td>\n",
       "      <td>0.0</td>\n",
       "      <td>0.00</td>\n",
       "      <td>0.0</td>\n",
       "      <td>3.00</td>\n",
       "      <td>1580.0</td>\n",
       "    </tr>\n",
       "    <tr>\n",
       "      <th>www_likes_received</th>\n",
       "      <td>2104.0</td>\n",
       "      <td>3.843631</td>\n",
       "      <td>22.127323</td>\n",
       "      <td>0.0</td>\n",
       "      <td>0.00</td>\n",
       "      <td>0.0</td>\n",
       "      <td>1.00</td>\n",
       "      <td>647.0</td>\n",
       "    </tr>\n",
       "  </tbody>\n",
       "</table>\n",
       "</div>"
      ],
      "text/plain": [
       "                        count         mean         std     min      25%  \\\n",
       "age                    2104.0    33.427281   16.155287    13.0    22.00   \n",
       "dob_day                2104.0    13.144962    9.242513     1.0     4.75   \n",
       "dob_year               2104.0  1979.572719   16.155287  1905.0  1971.75   \n",
       "dob_month              2104.0     5.882605    3.698839     1.0     2.00   \n",
       "tenure                 2104.0   274.701046  297.508563     0.0    54.00   \n",
       "friend_count           2104.0     2.039924    1.397070     0.0     1.00   \n",
       "friendships_initiated  2104.0     1.453422    1.242272     0.0     1.00   \n",
       "likes                  2104.0    27.654468  169.454213     1.0     1.00   \n",
       "likes_received         2104.0     7.934886   44.784909     0.0     0.00   \n",
       "mobile_likes           2104.0    17.676331  155.249561     0.0     0.00   \n",
       "mobile_likes_received  2104.0     4.091255   25.828290     0.0     0.00   \n",
       "www_likes              2104.0     9.978137   53.746481     0.0     0.00   \n",
       "www_likes_received     2104.0     3.843631   22.127323     0.0     0.00   \n",
       "\n",
       "                          50%      75%     max  \n",
       "age                      28.0    41.25   108.0  \n",
       "dob_day                  12.5    21.00    31.0  \n",
       "dob_year               1985.0  1991.00  2000.0  \n",
       "dob_month                 6.0     9.00    12.0  \n",
       "tenure                  191.0   387.00  2303.0  \n",
       "friend_count              2.0     3.00     5.0  \n",
       "friendships_initiated     1.0     2.00     5.0  \n",
       "likes                     4.0    14.00  5937.0  \n",
       "likes_received            1.0     3.00  1326.0  \n",
       "mobile_likes              1.0     6.00  5704.0  \n",
       "mobile_likes_received     0.0     2.00   679.0  \n",
       "www_likes                 0.0     3.00  1580.0  \n",
       "www_likes_received        0.0     1.00   647.0  "
      ]
     },
     "execution_count": 16,
     "metadata": {},
     "output_type": "execute_result"
    }
   ],
   "source": [
    "mydf.describe().T"
   ]
  },
  {
   "cell_type": "markdown",
   "metadata": {},
   "source": [
    "<h2 class=\"list-group-item list-group-item-action active\" >EXPLORATORY DATA ANALYSIS</h2>\n",
    "\n",
    ">### Inference on skewness and outliers with suitable plots"
   ]
  },
  {
   "cell_type": "code",
   "execution_count": 17,
   "metadata": {},
   "outputs": [
    {
     "data": {
      "text/html": [
       "<div>\n",
       "<style scoped>\n",
       "    .dataframe tbody tr th:only-of-type {\n",
       "        vertical-align: middle;\n",
       "    }\n",
       "\n",
       "    .dataframe tbody tr th {\n",
       "        vertical-align: top;\n",
       "    }\n",
       "\n",
       "    .dataframe thead th {\n",
       "        text-align: right;\n",
       "    }\n",
       "</style>\n",
       "<table border=\"1\" class=\"dataframe\">\n",
       "  <thead>\n",
       "    <tr style=\"text-align: right;\">\n",
       "      <th></th>\n",
       "      <th>dob_day</th>\n",
       "      <th>dob_year</th>\n",
       "      <th>dob_month</th>\n",
       "      <th>gender</th>\n",
       "      <th>tenure</th>\n",
       "      <th>friend_count</th>\n",
       "      <th>friendships_initiated</th>\n",
       "      <th>likes</th>\n",
       "      <th>likes_received</th>\n",
       "      <th>mobile_likes</th>\n",
       "      <th>mobile_likes_received</th>\n",
       "      <th>www_likes</th>\n",
       "      <th>www_likes_received</th>\n",
       "    </tr>\n",
       "  </thead>\n",
       "  <tbody>\n",
       "    <tr>\n",
       "      <th>0</th>\n",
       "      <td>2</td>\n",
       "      <td>2000</td>\n",
       "      <td>2</td>\n",
       "      <td>male</td>\n",
       "      <td>0</td>\n",
       "      <td>0</td>\n",
       "      <td>0</td>\n",
       "      <td>1</td>\n",
       "      <td>0</td>\n",
       "      <td>0</td>\n",
       "      <td>0</td>\n",
       "      <td>1</td>\n",
       "      <td>0</td>\n",
       "    </tr>\n",
       "    <tr>\n",
       "      <th>1</th>\n",
       "      <td>22</td>\n",
       "      <td>1999</td>\n",
       "      <td>1</td>\n",
       "      <td>male</td>\n",
       "      <td>104</td>\n",
       "      <td>0</td>\n",
       "      <td>0</td>\n",
       "      <td>1</td>\n",
       "      <td>0</td>\n",
       "      <td>0</td>\n",
       "      <td>0</td>\n",
       "      <td>1</td>\n",
       "      <td>0</td>\n",
       "    </tr>\n",
       "    <tr>\n",
       "      <th>2</th>\n",
       "      <td>18</td>\n",
       "      <td>1994</td>\n",
       "      <td>10</td>\n",
       "      <td>female</td>\n",
       "      <td>212</td>\n",
       "      <td>0</td>\n",
       "      <td>0</td>\n",
       "      <td>1</td>\n",
       "      <td>0</td>\n",
       "      <td>0</td>\n",
       "      <td>0</td>\n",
       "      <td>1</td>\n",
       "      <td>0</td>\n",
       "    </tr>\n",
       "    <tr>\n",
       "      <th>3</th>\n",
       "      <td>1</td>\n",
       "      <td>1992</td>\n",
       "      <td>1</td>\n",
       "      <td>male</td>\n",
       "      <td>328</td>\n",
       "      <td>0</td>\n",
       "      <td>0</td>\n",
       "      <td>1</td>\n",
       "      <td>0</td>\n",
       "      <td>0</td>\n",
       "      <td>0</td>\n",
       "      <td>1</td>\n",
       "      <td>0</td>\n",
       "    </tr>\n",
       "    <tr>\n",
       "      <th>4</th>\n",
       "      <td>10</td>\n",
       "      <td>1990</td>\n",
       "      <td>2</td>\n",
       "      <td>male</td>\n",
       "      <td>580</td>\n",
       "      <td>0</td>\n",
       "      <td>0</td>\n",
       "      <td>1</td>\n",
       "      <td>0</td>\n",
       "      <td>0</td>\n",
       "      <td>0</td>\n",
       "      <td>1</td>\n",
       "      <td>0</td>\n",
       "    </tr>\n",
       "  </tbody>\n",
       "</table>\n",
       "</div>"
      ],
      "text/plain": [
       "   dob_day  dob_year  dob_month  gender  tenure  friend_count  \\\n",
       "0        2      2000          2    male       0             0   \n",
       "1       22      1999          1    male     104             0   \n",
       "2       18      1994         10  female     212             0   \n",
       "3        1      1992          1    male     328             0   \n",
       "4       10      1990          2    male     580             0   \n",
       "\n",
       "   friendships_initiated  likes  likes_received  mobile_likes  \\\n",
       "0                      0      1               0             0   \n",
       "1                      0      1               0             0   \n",
       "2                      0      1               0             0   \n",
       "3                      0      1               0             0   \n",
       "4                      0      1               0             0   \n",
       "\n",
       "   mobile_likes_received  www_likes  www_likes_received  \n",
       "0                      0          1                   0  \n",
       "1                      0          1                   0  \n",
       "2                      0          1                   0  \n",
       "3                      0          1                   0  \n",
       "4                      0          1                   0  "
      ]
     },
     "execution_count": 17,
     "metadata": {},
     "output_type": "execute_result"
    }
   ],
   "source": [
    "mydf.iloc[:,1:14].head()"
   ]
  },
  {
   "cell_type": "code",
   "execution_count": 18,
   "metadata": {},
   "outputs": [
    {
     "data": {
      "text/plain": [
       "0      1257\n",
       "1       297\n",
       "2       135\n",
       "3        74\n",
       "4        60\n",
       "       ... \n",
       "152       1\n",
       "128       1\n",
       "122       1\n",
       "116       1\n",
       "266       1\n",
       "Name: mobile_likes_received, Length: 66, dtype: int64"
      ]
     },
     "execution_count": 18,
     "metadata": {},
     "output_type": "execute_result"
    }
   ],
   "source": [
    "mydf['mobile_likes_received'].value_counts()"
   ]
  },
  {
   "cell_type": "code",
   "execution_count": 21,
   "metadata": {},
   "outputs": [],
   "source": [
    "mydf1=mydf.iloc[:,[1,2,3,4,6,7]].head()"
   ]
  },
  {
   "cell_type": "code",
   "execution_count": 22,
   "metadata": {},
   "outputs": [
    {
     "data": {
      "image/png": "[encoded data removed]",
      "text/plain": [
       "<Figure size 1440x1080 with 6 Axes>"
      ]
     },
     "metadata": {
      "needs_background": "light"
     },
     "output_type": "display_data"
    }
   ],
   "source": [
    "fig,ax=plt.subplots(3,2,figsize=(20,15))\n",
    "for variable,subplot  in  zip(mydf1.columns,ax.flatten()):\n",
    "    sns.countplot(mydf[variable],ax=subplot)\n",
    "    plt.tight_layout()"
   ]
  },
  {
   "cell_type": "code",
   "execution_count": 24,
   "metadata": {},
   "outputs": [
    {
     "data": {
      "image/png": "[encoded data removed]",
      "text/plain": [
       "<Figure size 864x432 with 2 Axes>"
      ]
     },
     "metadata": {
      "needs_background": "light"
     },
     "output_type": "display_data"
    }
   ],
   "source": [
    "fig,ax=plt.subplots(1,2,figsize=(12,6))\n",
    "plt.subplot(1,2,1)\n",
    "sns.distplot(mydf['age'])\n",
    "\n",
    "plt.subplot(1,2,2)\n",
    "sns.boxplot(mydf['age'])\n",
    "plt.title(\"Boxplot for Age\")\n",
    "\n",
    "plt.show()"
   ]
  },
  {
   "cell_type": "code",
   "execution_count": 26,
   "metadata": {},
   "outputs": [
    {
     "data": {
      "text/plain": [
       "1.6285741973183543"
      ]
     },
     "execution_count": 26,
     "metadata": {},
     "output_type": "execute_result"
    }
   ],
   "source": [
    "mydf['age'].skew()"
   ]
  },
  {
   "cell_type": "markdown",
   "metadata": {},
   "source": [
    "For Age column ,  the data is positvely skewed and the outliers lie above upper portion of Q3  quartile"
   ]
  },
  {
   "cell_type": "code",
   "execution_count": 27,
   "metadata": {},
   "outputs": [
    {
     "data": {
      "image/png": "[encoded data removed]",
      "text/plain": [
       "<Figure size 864x432 with 2 Axes>"
      ]
     },
     "metadata": {
      "needs_background": "light"
     },
     "output_type": "display_data"
    }
   ],
   "source": [
    "fig,ax=plt.subplots(1,2,figsize=(12,6))\n",
    "plt.subplot(1,2,1)\n",
    "sns.distplot(mydf['dob_month'])\n",
    "\n",
    "plt.subplot(1,2,2)\n",
    "sns.boxplot(mydf['dob_month'])\n",
    "\n",
    "plt.show()"
   ]
  },
  {
   "cell_type": "code",
   "execution_count": 29,
   "metadata": {},
   "outputs": [
    {
     "data": {
      "text/plain": [
       "0.24190766041491962"
      ]
     },
     "execution_count": 29,
     "metadata": {},
     "output_type": "execute_result"
    }
   ],
   "source": [
    "mydf['dob_day'].skew()"
   ]
  },
  {
   "cell_type": "markdown",
   "metadata": {},
   "source": [
    "For Date_of_Birth Day column ,  the data is not skewed very much and no   outliers."
   ]
  },
  {
   "cell_type": "code",
   "execution_count": 30,
   "metadata": {},
   "outputs": [
    {
     "data": {
      "image/png": "[encoded data removed]",
      "text/plain": [
       "<Figure size 864x432 with 2 Axes>"
      ]
     },
     "metadata": {
      "needs_background": "light"
     },
     "output_type": "display_data"
    }
   ],
   "source": [
    "fig,ax=plt.subplots(1,2,figsize=(12,6))\n",
    "\n",
    "plt.subplot(1,2,1)\n",
    "sns.distplot(mydf['dob_year'])\n",
    "\n",
    "plt.subplot(1,2,2)\n",
    "sns.boxplot(mydf['dob_year'])\n",
    "\n",
    "plt.show()"
   ]
  },
  {
   "cell_type": "code",
   "execution_count": 32,
   "metadata": {},
   "outputs": [
    {
     "data": {
      "text/plain": [
       "-1.6285741973183634"
      ]
     },
     "execution_count": 32,
     "metadata": {},
     "output_type": "execute_result"
    }
   ],
   "source": [
    "mydf['dob_year'].skew()"
   ]
  },
  {
   "cell_type": "markdown",
   "metadata": {},
   "source": [
    "For Date_of_Birth Year column ,  the data is negatively skewed and   outliers are present below the Q1  quartile."
   ]
  },
  {
   "cell_type": "code",
   "execution_count": 33,
   "metadata": {},
   "outputs": [
    {
     "data": {
      "image/png": "[encoded data removed]",
      "text/plain": [
       "<Figure size 864x432 with 2 Axes>"
      ]
     },
     "metadata": {
      "needs_background": "light"
     },
     "output_type": "display_data"
    }
   ],
   "source": [
    "fig,ax=plt.subplots(1,2,figsize=(12,6))\n",
    "\n",
    "plt.subplot(1,2,1)\n",
    "sns.distplot(mydf['dob_month'])\n",
    "\n",
    "plt.subplot(1,2,2)\n",
    "sns.boxplot(mydf['dob_month'])\n",
    "\n",
    "plt.show()"
   ]
  },
  {
   "cell_type": "code",
   "execution_count": 35,
   "metadata": {},
   "outputs": [
    {
     "data": {
      "text/plain": [
       "0.1602823038779257"
      ]
     },
     "execution_count": 35,
     "metadata": {},
     "output_type": "execute_result"
    }
   ],
   "source": [
    "mydf['dob_month'].skew()"
   ]
  },
  {
   "cell_type": "markdown",
   "metadata": {},
   "source": [
    "For Date_of_Birth  month column ,  the data is not skewed and   no  outliers are present ."
   ]
  },
  {
   "cell_type": "code",
   "execution_count": 36,
   "metadata": {},
   "outputs": [
    {
     "data": {
      "image/png": "[encoded data removed]",
      "text/plain": [
       "<Figure size 864x432 with 2 Axes>"
      ]
     },
     "metadata": {
      "needs_background": "light"
     },
     "output_type": "display_data"
    }
   ],
   "source": [
    "fig,ax=plt.subplots(1,2,figsize=(12,6))\n",
    "\n",
    "plt.subplot(1,2,1)\n",
    "sns.distplot(mydf['tenure'])\n",
    "\n",
    "plt.subplot(1,2,2)\n",
    "sns.boxplot(mydf['tenure'])\n",
    "\n",
    "plt.show()"
   ]
  },
  {
   "cell_type": "code",
   "execution_count": 38,
   "metadata": {},
   "outputs": [
    {
     "data": {
      "text/plain": [
       "2.0835496317796776"
      ]
     },
     "execution_count": 38,
     "metadata": {},
     "output_type": "execute_result"
    }
   ],
   "source": [
    "mydf['tenure'].skew()"
   ]
  },
  {
   "cell_type": "markdown",
   "metadata": {},
   "source": [
    "For Tenure column ,  the data is positively skewed and     outliers are present  above the Q3 Quartile ."
   ]
  },
  {
   "cell_type": "code",
   "execution_count": 39,
   "metadata": {},
   "outputs": [
    {
     "data": {
      "image/png": "[encoded data removed]",
      "text/plain": [
       "<Figure size 864x432 with 2 Axes>"
      ]
     },
     "metadata": {
      "needs_background": "light"
     },
     "output_type": "display_data"
    }
   ],
   "source": [
    "fig,ax=plt.subplots(1,2,figsize=(12,6))\n",
    "\n",
    "plt.subplot(1,2,1)\n",
    "sns.distplot(mydf['friend_count'])\n",
    "\n",
    "plt.subplot(1,2,2)\n",
    "sns.boxplot(mydf['friend_count'])\n",
    "\n",
    "plt.show()"
   ]
  },
  {
   "cell_type": "code",
   "execution_count": 41,
   "metadata": {},
   "outputs": [
    {
     "data": {
      "text/plain": [
       "0.3393673207205632"
      ]
     },
     "execution_count": 41,
     "metadata": {},
     "output_type": "execute_result"
    }
   ],
   "source": [
    "mydf['friend_count'].skew()"
   ]
  },
  {
   "cell_type": "markdown",
   "metadata": {},
   "source": [
    "For Friend count column ,  the data is not skewed and   no  outliers are present ."
   ]
  },
  {
   "cell_type": "markdown",
   "metadata": {},
   "source": [
    ">### Heatmap to understand the correlation among independent variables"
   ]
  },
  {
   "cell_type": "code",
   "execution_count": 44,
   "metadata": {},
   "outputs": [
    {
     "data": {
      "text/plain": [
       "<AxesSubplot:>"
      ]
     },
     "execution_count": 44,
     "metadata": {},
     "output_type": "execute_result"
    },
    {
     "data": {
      "image/png": "[encoded data removed]",
      "text/plain": [
       "<Figure size 864x576 with 2 Axes>"
      ]
     },
     "metadata": {
      "needs_background": "light"
     },
     "output_type": "display_data"
    }
   ],
   "source": [
    "plt.rcParams['figure.figsize']=[12,8]\n",
    "sns.heatmap(mydf.corr()[np.abs(mydf.corr())>0.7])"
   ]
  },
  {
   "cell_type": "markdown",
   "metadata": {},
   "source": [
    "There is a correlation   between the \n",
    "\n",
    "- A positive correlationLikes_received and  www_likes_received\n",
    "\n",
    "- A positive correlationMobile_likes_received  and  www_likes_received\n",
    "\n",
    "- A positive correlation between www_likes_received and mobile_likes_received.\n",
    "\n",
    "- Negative correlation between dob_year and age\n",
    "\n",
    "- Positive correlation between likes and mobile_likes\n",
    "\n",
    "- Moderately positive correlation  between  friend_count and friendships_initiated."
   ]
  },
  {
   "cell_type": "markdown",
   "metadata": {},
   "source": [
    "<h2 class=\"list-group-item list-group-item-action active\" >Train and Test Dataset    </h2>"
   ]
  },
  {
   "cell_type": "code",
   "execution_count": 45,
   "metadata": {},
   "outputs": [],
   "source": [
    "from sklearn.model_selection import train_test_split"
   ]
  },
  {
   "cell_type": "code",
   "execution_count": 47,
   "metadata": {},
   "outputs": [
    {
     "data": {
      "text/html": [
       "<div>\n",
       "<style scoped>\n",
       "    .dataframe tbody tr th:only-of-type {\n",
       "        vertical-align: middle;\n",
       "    }\n",
       "\n",
       "    .dataframe tbody tr th {\n",
       "        vertical-align: top;\n",
       "    }\n",
       "\n",
       "    .dataframe thead th {\n",
       "        text-align: right;\n",
       "    }\n",
       "</style>\n",
       "<table border=\"1\" class=\"dataframe\">\n",
       "  <thead>\n",
       "    <tr style=\"text-align: right;\">\n",
       "      <th></th>\n",
       "      <th>age</th>\n",
       "      <th>dob_day</th>\n",
       "      <th>dob_year</th>\n",
       "      <th>dob_month</th>\n",
       "      <th>gender</th>\n",
       "      <th>tenure</th>\n",
       "      <th>friend_count</th>\n",
       "      <th>friendships_initiated</th>\n",
       "      <th>likes</th>\n",
       "      <th>likes_received</th>\n",
       "      <th>mobile_likes</th>\n",
       "      <th>mobile_likes_received</th>\n",
       "      <th>www_likes</th>\n",
       "      <th>www_likes_received</th>\n",
       "    </tr>\n",
       "  </thead>\n",
       "  <tbody>\n",
       "    <tr>\n",
       "      <th>0</th>\n",
       "      <td>13</td>\n",
       "      <td>2</td>\n",
       "      <td>2000</td>\n",
       "      <td>2</td>\n",
       "      <td>male</td>\n",
       "      <td>0</td>\n",
       "      <td>0</td>\n",
       "      <td>0</td>\n",
       "      <td>1</td>\n",
       "      <td>0</td>\n",
       "      <td>0</td>\n",
       "      <td>0</td>\n",
       "      <td>1</td>\n",
       "      <td>0</td>\n",
       "    </tr>\n",
       "    <tr>\n",
       "      <th>1</th>\n",
       "      <td>14</td>\n",
       "      <td>22</td>\n",
       "      <td>1999</td>\n",
       "      <td>1</td>\n",
       "      <td>male</td>\n",
       "      <td>104</td>\n",
       "      <td>0</td>\n",
       "      <td>0</td>\n",
       "      <td>1</td>\n",
       "      <td>0</td>\n",
       "      <td>0</td>\n",
       "      <td>0</td>\n",
       "      <td>1</td>\n",
       "      <td>0</td>\n",
       "    </tr>\n",
       "    <tr>\n",
       "      <th>2</th>\n",
       "      <td>19</td>\n",
       "      <td>18</td>\n",
       "      <td>1994</td>\n",
       "      <td>10</td>\n",
       "      <td>female</td>\n",
       "      <td>212</td>\n",
       "      <td>0</td>\n",
       "      <td>0</td>\n",
       "      <td>1</td>\n",
       "      <td>0</td>\n",
       "      <td>0</td>\n",
       "      <td>0</td>\n",
       "      <td>1</td>\n",
       "      <td>0</td>\n",
       "    </tr>\n",
       "    <tr>\n",
       "      <th>3</th>\n",
       "      <td>21</td>\n",
       "      <td>1</td>\n",
       "      <td>1992</td>\n",
       "      <td>1</td>\n",
       "      <td>male</td>\n",
       "      <td>328</td>\n",
       "      <td>0</td>\n",
       "      <td>0</td>\n",
       "      <td>1</td>\n",
       "      <td>0</td>\n",
       "      <td>0</td>\n",
       "      <td>0</td>\n",
       "      <td>1</td>\n",
       "      <td>0</td>\n",
       "    </tr>\n",
       "    <tr>\n",
       "      <th>4</th>\n",
       "      <td>23</td>\n",
       "      <td>10</td>\n",
       "      <td>1990</td>\n",
       "      <td>2</td>\n",
       "      <td>male</td>\n",
       "      <td>580</td>\n",
       "      <td>0</td>\n",
       "      <td>0</td>\n",
       "      <td>1</td>\n",
       "      <td>0</td>\n",
       "      <td>0</td>\n",
       "      <td>0</td>\n",
       "      <td>1</td>\n",
       "      <td>0</td>\n",
       "    </tr>\n",
       "  </tbody>\n",
       "</table>\n",
       "</div>"
      ],
      "text/plain": [
       "   age  dob_day  dob_year  dob_month  gender  tenure  friend_count  \\\n",
       "0   13        2      2000          2    male       0             0   \n",
       "1   14       22      1999          1    male     104             0   \n",
       "2   19       18      1994         10  female     212             0   \n",
       "3   21        1      1992          1    male     328             0   \n",
       "4   23       10      1990          2    male     580             0   \n",
       "\n",
       "   friendships_initiated  likes  likes_received  mobile_likes  \\\n",
       "0                      0      1               0             0   \n",
       "1                      0      1               0             0   \n",
       "2                      0      1               0             0   \n",
       "3                      0      1               0             0   \n",
       "4                      0      1               0             0   \n",
       "\n",
       "   mobile_likes_received  www_likes  www_likes_received  \n",
       "0                      0          1                   0  \n",
       "1                      0          1                   0  \n",
       "2                      0          1                   0  \n",
       "3                      0          1                   0  \n",
       "4                      0          1                   0  "
      ]
     },
     "execution_count": 47,
     "metadata": {},
     "output_type": "execute_result"
    }
   ],
   "source": [
    "mydf.head()"
   ]
  },
  {
   "cell_type": "code",
   "execution_count": 48,
   "metadata": {},
   "outputs": [
    {
     "data": {
      "text/html": [
       "<div>\n",
       "<style scoped>\n",
       "    .dataframe tbody tr th:only-of-type {\n",
       "        vertical-align: middle;\n",
       "    }\n",
       "\n",
       "    .dataframe tbody tr th {\n",
       "        vertical-align: top;\n",
       "    }\n",
       "\n",
       "    .dataframe thead th {\n",
       "        text-align: right;\n",
       "    }\n",
       "</style>\n",
       "<table border=\"1\" class=\"dataframe\">\n",
       "  <thead>\n",
       "    <tr style=\"text-align: right;\">\n",
       "      <th></th>\n",
       "      <th>gender</th>\n",
       "    </tr>\n",
       "  </thead>\n",
       "  <tbody>\n",
       "    <tr>\n",
       "      <th>0</th>\n",
       "      <td>male</td>\n",
       "    </tr>\n",
       "    <tr>\n",
       "      <th>1</th>\n",
       "      <td>male</td>\n",
       "    </tr>\n",
       "    <tr>\n",
       "      <th>2</th>\n",
       "      <td>female</td>\n",
       "    </tr>\n",
       "    <tr>\n",
       "      <th>3</th>\n",
       "      <td>male</td>\n",
       "    </tr>\n",
       "    <tr>\n",
       "      <th>4</th>\n",
       "      <td>male</td>\n",
       "    </tr>\n",
       "  </tbody>\n",
       "</table>\n",
       "</div>"
      ],
      "text/plain": [
       "   gender\n",
       "0    male\n",
       "1    male\n",
       "2  female\n",
       "3    male\n",
       "4    male"
      ]
     },
     "execution_count": 48,
     "metadata": {},
     "output_type": "execute_result"
    }
   ],
   "source": [
    "mydf.select_dtypes(include='object').head()"
   ]
  },
  {
   "cell_type": "code",
   "execution_count": 49,
   "metadata": {},
   "outputs": [
    {
     "data": {
      "text/plain": [
       "(2104, 14)"
      ]
     },
     "execution_count": 49,
     "metadata": {},
     "output_type": "execute_result"
    }
   ],
   "source": [
    "mydf.shape"
   ]
  },
  {
   "cell_type": "code",
   "execution_count": 51,
   "metadata": {},
   "outputs": [
    {
     "data": {
      "text/html": [
       "<div>\n",
       "<style scoped>\n",
       "    .dataframe tbody tr th:only-of-type {\n",
       "        vertical-align: middle;\n",
       "    }\n",
       "\n",
       "    .dataframe tbody tr th {\n",
       "        vertical-align: top;\n",
       "    }\n",
       "\n",
       "    .dataframe thead th {\n",
       "        text-align: right;\n",
       "    }\n",
       "</style>\n",
       "<table border=\"1\" class=\"dataframe\">\n",
       "  <thead>\n",
       "    <tr style=\"text-align: right;\">\n",
       "      <th></th>\n",
       "      <th>age</th>\n",
       "      <th>dob_day</th>\n",
       "      <th>dob_year</th>\n",
       "      <th>dob_month</th>\n",
       "      <th>tenure</th>\n",
       "      <th>friend_count</th>\n",
       "      <th>friendships_initiated</th>\n",
       "      <th>likes_received</th>\n",
       "      <th>mobile_likes</th>\n",
       "      <th>mobile_likes_received</th>\n",
       "      <th>www_likes</th>\n",
       "      <th>www_likes_received</th>\n",
       "      <th>male</th>\n",
       "    </tr>\n",
       "  </thead>\n",
       "  <tbody>\n",
       "    <tr>\n",
       "      <th>0</th>\n",
       "      <td>13</td>\n",
       "      <td>2</td>\n",
       "      <td>2000</td>\n",
       "      <td>2</td>\n",
       "      <td>0</td>\n",
       "      <td>0</td>\n",
       "      <td>0</td>\n",
       "      <td>0</td>\n",
       "      <td>0</td>\n",
       "      <td>0</td>\n",
       "      <td>1</td>\n",
       "      <td>0</td>\n",
       "      <td>1</td>\n",
       "    </tr>\n",
       "    <tr>\n",
       "      <th>1</th>\n",
       "      <td>14</td>\n",
       "      <td>22</td>\n",
       "      <td>1999</td>\n",
       "      <td>1</td>\n",
       "      <td>104</td>\n",
       "      <td>0</td>\n",
       "      <td>0</td>\n",
       "      <td>0</td>\n",
       "      <td>0</td>\n",
       "      <td>0</td>\n",
       "      <td>1</td>\n",
       "      <td>0</td>\n",
       "      <td>1</td>\n",
       "    </tr>\n",
       "    <tr>\n",
       "      <th>2</th>\n",
       "      <td>19</td>\n",
       "      <td>18</td>\n",
       "      <td>1994</td>\n",
       "      <td>10</td>\n",
       "      <td>212</td>\n",
       "      <td>0</td>\n",
       "      <td>0</td>\n",
       "      <td>0</td>\n",
       "      <td>0</td>\n",
       "      <td>0</td>\n",
       "      <td>1</td>\n",
       "      <td>0</td>\n",
       "      <td>0</td>\n",
       "    </tr>\n",
       "    <tr>\n",
       "      <th>3</th>\n",
       "      <td>21</td>\n",
       "      <td>1</td>\n",
       "      <td>1992</td>\n",
       "      <td>1</td>\n",
       "      <td>328</td>\n",
       "      <td>0</td>\n",
       "      <td>0</td>\n",
       "      <td>0</td>\n",
       "      <td>0</td>\n",
       "      <td>0</td>\n",
       "      <td>1</td>\n",
       "      <td>0</td>\n",
       "      <td>1</td>\n",
       "    </tr>\n",
       "    <tr>\n",
       "      <th>4</th>\n",
       "      <td>23</td>\n",
       "      <td>10</td>\n",
       "      <td>1990</td>\n",
       "      <td>2</td>\n",
       "      <td>580</td>\n",
       "      <td>0</td>\n",
       "      <td>0</td>\n",
       "      <td>0</td>\n",
       "      <td>0</td>\n",
       "      <td>0</td>\n",
       "      <td>1</td>\n",
       "      <td>0</td>\n",
       "      <td>1</td>\n",
       "    </tr>\n",
       "  </tbody>\n",
       "</table>\n",
       "</div>"
      ],
      "text/plain": [
       "   age  dob_day  dob_year  dob_month  tenure  friend_count  \\\n",
       "0   13        2      2000          2       0             0   \n",
       "1   14       22      1999          1     104             0   \n",
       "2   19       18      1994         10     212             0   \n",
       "3   21        1      1992          1     328             0   \n",
       "4   23       10      1990          2     580             0   \n",
       "\n",
       "   friendships_initiated  likes_received  mobile_likes  mobile_likes_received  \\\n",
       "0                      0               0             0                      0   \n",
       "1                      0               0             0                      0   \n",
       "2                      0               0             0                      0   \n",
       "3                      0               0             0                      0   \n",
       "4                      0               0             0                      0   \n",
       "\n",
       "   www_likes  www_likes_received  male  \n",
       "0          1                   0     1  \n",
       "1          1                   0     1  \n",
       "2          1                   0     0  \n",
       "3          1                   0     1  \n",
       "4          1                   0     1  "
      ]
     },
     "execution_count": 51,
     "metadata": {},
     "output_type": "execute_result"
    }
   ],
   "source": [
    "mydf2=mydf.iloc[:,[0,1,2,3,5,6,7,9,10,11,12,13]]\n",
    "encoded=pd.get_dummies(mydf[\"gender\"],drop_first=True)\n",
    "\n",
    "mydf3=pd.concat([mydf2,encoded],axis=1)\n",
    "mydf3.head()"
   ]
  },
  {
   "cell_type": "code",
   "execution_count": 52,
   "metadata": {},
   "outputs": [],
   "source": [
    "from scipy import stats\n",
    "from scipy.stats import shapiro\n",
    "from sklearn.metrics import mean_absolute_error\n",
    "from sklearn.metrics import mean_squared_error\n",
    "\n",
    "import statsmodels\n",
    "import statsmodels.api as sm\n",
    "import statsmodels.stats.api as sms\n",
    "from statsmodels.stats.outliers_influence import variance_inflation_factor\n",
    "from statsmodels.stats.anova import anova_lm\n",
    "from statsmodels.formula.api import ols\n",
    "from statsmodels.graphics.gofplots import qqplot\n",
    "\n",
    "import mlxtend\n",
    "from mlxtend.feature_selection import SequentialFeatureSelector as sfs\n",
    "from sklearn.feature_selection import RFE\n",
    "\n",
    "from sklearn.linear_model import LinearRegression\n",
    "from sklearn.model_selection import KFold\n"
   ]
  },
  {
   "cell_type": "code",
   "execution_count": 53,
   "metadata": {},
   "outputs": [
    {
     "data": {
      "text/plain": [
       "['age',\n",
       " 'dob_day',\n",
       " 'dob_year',\n",
       " 'dob_month',\n",
       " 'tenure',\n",
       " 'friend_count',\n",
       " 'friendships_initiated',\n",
       " 'likes_received',\n",
       " 'mobile_likes',\n",
       " 'mobile_likes_received',\n",
       " 'www_likes',\n",
       " 'www_likes_received',\n",
       " 'male']"
      ]
     },
     "execution_count": 53,
     "metadata": {},
     "output_type": "execute_result"
    }
   ],
   "source": [
    "a=mydf3.columns\n",
    "a.to_list()"
   ]
  },
  {
   "cell_type": "code",
   "execution_count": 54,
   "metadata": {},
   "outputs": [],
   "source": [
    "from sklearn.preprocessing import StandardScaler\n",
    "scaler=StandardScaler()"
   ]
  },
  {
   "cell_type": "code",
   "execution_count": 55,
   "metadata": {},
   "outputs": [
    {
     "data": {
      "text/html": [
       "<div>\n",
       "<style scoped>\n",
       "    .dataframe tbody tr th:only-of-type {\n",
       "        vertical-align: middle;\n",
       "    }\n",
       "\n",
       "    .dataframe tbody tr th {\n",
       "        vertical-align: top;\n",
       "    }\n",
       "\n",
       "    .dataframe thead th {\n",
       "        text-align: right;\n",
       "    }\n",
       "</style>\n",
       "<table border=\"1\" class=\"dataframe\">\n",
       "  <thead>\n",
       "    <tr style=\"text-align: right;\">\n",
       "      <th></th>\n",
       "      <th>age</th>\n",
       "      <th>dob_day</th>\n",
       "      <th>dob_year</th>\n",
       "      <th>dob_month</th>\n",
       "      <th>tenure</th>\n",
       "      <th>friend_count</th>\n",
       "      <th>friendships_initiated</th>\n",
       "      <th>likes_received</th>\n",
       "      <th>mobile_likes</th>\n",
       "      <th>mobile_likes_received</th>\n",
       "      <th>www_likes</th>\n",
       "      <th>www_likes_received</th>\n",
       "      <th>male</th>\n",
       "    </tr>\n",
       "  </thead>\n",
       "  <tbody>\n",
       "    <tr>\n",
       "      <th>0</th>\n",
       "      <td>-1.264734</td>\n",
       "      <td>-1.206123</td>\n",
       "      <td>1.264734</td>\n",
       "      <td>-1.049932</td>\n",
       "      <td>-0.923558</td>\n",
       "      <td>-1.460491</td>\n",
       "      <td>-1.170249</td>\n",
       "      <td>-0.17722</td>\n",
       "      <td>-0.113885</td>\n",
       "      <td>-0.15844</td>\n",
       "      <td>-0.167086</td>\n",
       "      <td>-0.173746</td>\n",
       "      <td>1</td>\n",
       "    </tr>\n",
       "    <tr>\n",
       "      <th>1</th>\n",
       "      <td>-1.202820</td>\n",
       "      <td>0.958305</td>\n",
       "      <td>1.202820</td>\n",
       "      <td>-1.320351</td>\n",
       "      <td>-0.573905</td>\n",
       "      <td>-1.460491</td>\n",
       "      <td>-1.170249</td>\n",
       "      <td>-0.17722</td>\n",
       "      <td>-0.113885</td>\n",
       "      <td>-0.15844</td>\n",
       "      <td>-0.167086</td>\n",
       "      <td>-0.173746</td>\n",
       "      <td>1</td>\n",
       "    </tr>\n",
       "    <tr>\n",
       "      <th>2</th>\n",
       "      <td>-0.893250</td>\n",
       "      <td>0.525419</td>\n",
       "      <td>0.893250</td>\n",
       "      <td>1.113424</td>\n",
       "      <td>-0.210804</td>\n",
       "      <td>-1.460491</td>\n",
       "      <td>-1.170249</td>\n",
       "      <td>-0.17722</td>\n",
       "      <td>-0.113885</td>\n",
       "      <td>-0.15844</td>\n",
       "      <td>-0.167086</td>\n",
       "      <td>-0.173746</td>\n",
       "      <td>0</td>\n",
       "    </tr>\n",
       "    <tr>\n",
       "      <th>3</th>\n",
       "      <td>-0.769422</td>\n",
       "      <td>-1.314345</td>\n",
       "      <td>0.769422</td>\n",
       "      <td>-1.320351</td>\n",
       "      <td>0.179194</td>\n",
       "      <td>-1.460491</td>\n",
       "      <td>-1.170249</td>\n",
       "      <td>-0.17722</td>\n",
       "      <td>-0.113885</td>\n",
       "      <td>-0.15844</td>\n",
       "      <td>-0.167086</td>\n",
       "      <td>-0.173746</td>\n",
       "      <td>1</td>\n",
       "    </tr>\n",
       "    <tr>\n",
       "      <th>4</th>\n",
       "      <td>-0.645594</td>\n",
       "      <td>-0.340352</td>\n",
       "      <td>0.645594</td>\n",
       "      <td>-1.049932</td>\n",
       "      <td>1.026429</td>\n",
       "      <td>-1.460491</td>\n",
       "      <td>-1.170249</td>\n",
       "      <td>-0.17722</td>\n",
       "      <td>-0.113885</td>\n",
       "      <td>-0.15844</td>\n",
       "      <td>-0.167086</td>\n",
       "      <td>-0.173746</td>\n",
       "      <td>1</td>\n",
       "    </tr>\n",
       "  </tbody>\n",
       "</table>\n",
       "</div>"
      ],
      "text/plain": [
       "        age   dob_day  dob_year  dob_month    tenure  friend_count  \\\n",
       "0 -1.264734 -1.206123  1.264734  -1.049932 -0.923558     -1.460491   \n",
       "1 -1.202820  0.958305  1.202820  -1.320351 -0.573905     -1.460491   \n",
       "2 -0.893250  0.525419  0.893250   1.113424 -0.210804     -1.460491   \n",
       "3 -0.769422 -1.314345  0.769422  -1.320351  0.179194     -1.460491   \n",
       "4 -0.645594 -0.340352  0.645594  -1.049932  1.026429     -1.460491   \n",
       "\n",
       "   friendships_initiated  likes_received  mobile_likes  mobile_likes_received  \\\n",
       "0              -1.170249        -0.17722     -0.113885               -0.15844   \n",
       "1              -1.170249        -0.17722     -0.113885               -0.15844   \n",
       "2              -1.170249        -0.17722     -0.113885               -0.15844   \n",
       "3              -1.170249        -0.17722     -0.113885               -0.15844   \n",
       "4              -1.170249        -0.17722     -0.113885               -0.15844   \n",
       "\n",
       "   www_likes  www_likes_received  male  \n",
       "0  -0.167086           -0.173746     1  \n",
       "1  -0.167086           -0.173746     1  \n",
       "2  -0.167086           -0.173746     0  \n",
       "3  -0.167086           -0.173746     1  \n",
       "4  -0.167086           -0.173746     1  "
      ]
     },
     "execution_count": 55,
     "metadata": {},
     "output_type": "execute_result"
    }
   ],
   "source": [
    "s=scaler.fit_transform(mydf2)\n",
    "X=pd.DataFrame(data=s,columns=mydf2.columns.to_list())\n",
    "X=pd.concat([X,encoded],axis=1)\n",
    "X.head()"
   ]
  },
  {
   "cell_type": "code",
   "execution_count": 56,
   "metadata": {},
   "outputs": [
    {
     "data": {
      "text/plain": [
       "1       626\n",
       "2       244\n",
       "3       166\n",
       "4       127\n",
       "5        94\n",
       "       ... \n",
       "1580      1\n",
       "45        1\n",
       "51        1\n",
       "57        1\n",
       "600       1\n",
       "Name: likes, Length: 178, dtype: int64"
      ]
     },
     "execution_count": 56,
     "metadata": {},
     "output_type": "execute_result"
    }
   ],
   "source": [
    "y=mydf['likes']\n",
    "y.value_counts()"
   ]
  },
  {
   "cell_type": "code",
   "execution_count": 70,
   "metadata": {},
   "outputs": [
    {
     "data": {
      "text/plain": [
       "0   -0.157296\n",
       "1   -0.157296\n",
       "2   -0.157296\n",
       "3   -0.157296\n",
       "4   -0.157296\n",
       "Name: likes, dtype: float64"
      ]
     },
     "execution_count": 70,
     "metadata": {},
     "output_type": "execute_result"
    }
   ],
   "source": [
    "y1=(y-y.mean())/y.std()\n",
    "y1.head()"
   ]
  },
  {
   "cell_type": "code",
   "execution_count": 57,
   "metadata": {},
   "outputs": [
    {
     "data": {
      "text/html": [
       "<div>\n",
       "<style scoped>\n",
       "    .dataframe tbody tr th:only-of-type {\n",
       "        vertical-align: middle;\n",
       "    }\n",
       "\n",
       "    .dataframe tbody tr th {\n",
       "        vertical-align: top;\n",
       "    }\n",
       "\n",
       "    .dataframe thead th {\n",
       "        text-align: right;\n",
       "    }\n",
       "</style>\n",
       "<table border=\"1\" class=\"dataframe\">\n",
       "  <thead>\n",
       "    <tr style=\"text-align: right;\">\n",
       "      <th></th>\n",
       "      <th>const</th>\n",
       "      <th>age</th>\n",
       "      <th>dob_day</th>\n",
       "      <th>dob_year</th>\n",
       "      <th>dob_month</th>\n",
       "      <th>tenure</th>\n",
       "      <th>friend_count</th>\n",
       "      <th>friendships_initiated</th>\n",
       "      <th>likes_received</th>\n",
       "      <th>mobile_likes</th>\n",
       "      <th>mobile_likes_received</th>\n",
       "      <th>www_likes</th>\n",
       "      <th>www_likes_received</th>\n",
       "      <th>male</th>\n",
       "    </tr>\n",
       "  </thead>\n",
       "  <tbody>\n",
       "    <tr>\n",
       "      <th>0</th>\n",
       "      <td>1.0</td>\n",
       "      <td>-1.264734</td>\n",
       "      <td>-1.206123</td>\n",
       "      <td>1.264734</td>\n",
       "      <td>-1.049932</td>\n",
       "      <td>-0.923558</td>\n",
       "      <td>-1.460491</td>\n",
       "      <td>-1.170249</td>\n",
       "      <td>-0.17722</td>\n",
       "      <td>-0.113885</td>\n",
       "      <td>-0.15844</td>\n",
       "      <td>-0.167086</td>\n",
       "      <td>-0.173746</td>\n",
       "      <td>1</td>\n",
       "    </tr>\n",
       "    <tr>\n",
       "      <th>1</th>\n",
       "      <td>1.0</td>\n",
       "      <td>-1.202820</td>\n",
       "      <td>0.958305</td>\n",
       "      <td>1.202820</td>\n",
       "      <td>-1.320351</td>\n",
       "      <td>-0.573905</td>\n",
       "      <td>-1.460491</td>\n",
       "      <td>-1.170249</td>\n",
       "      <td>-0.17722</td>\n",
       "      <td>-0.113885</td>\n",
       "      <td>-0.15844</td>\n",
       "      <td>-0.167086</td>\n",
       "      <td>-0.173746</td>\n",
       "      <td>1</td>\n",
       "    </tr>\n",
       "    <tr>\n",
       "      <th>2</th>\n",
       "      <td>1.0</td>\n",
       "      <td>-0.893250</td>\n",
       "      <td>0.525419</td>\n",
       "      <td>0.893250</td>\n",
       "      <td>1.113424</td>\n",
       "      <td>-0.210804</td>\n",
       "      <td>-1.460491</td>\n",
       "      <td>-1.170249</td>\n",
       "      <td>-0.17722</td>\n",
       "      <td>-0.113885</td>\n",
       "      <td>-0.15844</td>\n",
       "      <td>-0.167086</td>\n",
       "      <td>-0.173746</td>\n",
       "      <td>0</td>\n",
       "    </tr>\n",
       "    <tr>\n",
       "      <th>3</th>\n",
       "      <td>1.0</td>\n",
       "      <td>-0.769422</td>\n",
       "      <td>-1.314345</td>\n",
       "      <td>0.769422</td>\n",
       "      <td>-1.320351</td>\n",
       "      <td>0.179194</td>\n",
       "      <td>-1.460491</td>\n",
       "      <td>-1.170249</td>\n",
       "      <td>-0.17722</td>\n",
       "      <td>-0.113885</td>\n",
       "      <td>-0.15844</td>\n",
       "      <td>-0.167086</td>\n",
       "      <td>-0.173746</td>\n",
       "      <td>1</td>\n",
       "    </tr>\n",
       "    <tr>\n",
       "      <th>4</th>\n",
       "      <td>1.0</td>\n",
       "      <td>-0.645594</td>\n",
       "      <td>-0.340352</td>\n",
       "      <td>0.645594</td>\n",
       "      <td>-1.049932</td>\n",
       "      <td>1.026429</td>\n",
       "      <td>-1.460491</td>\n",
       "      <td>-1.170249</td>\n",
       "      <td>-0.17722</td>\n",
       "      <td>-0.113885</td>\n",
       "      <td>-0.15844</td>\n",
       "      <td>-0.167086</td>\n",
       "      <td>-0.173746</td>\n",
       "      <td>1</td>\n",
       "    </tr>\n",
       "  </tbody>\n",
       "</table>\n",
       "</div>"
      ],
      "text/plain": [
       "   const       age   dob_day  dob_year  dob_month    tenure  friend_count  \\\n",
       "0    1.0 -1.264734 -1.206123  1.264734  -1.049932 -0.923558     -1.460491   \n",
       "1    1.0 -1.202820  0.958305  1.202820  -1.320351 -0.573905     -1.460491   \n",
       "2    1.0 -0.893250  0.525419  0.893250   1.113424 -0.210804     -1.460491   \n",
       "3    1.0 -0.769422 -1.314345  0.769422  -1.320351  0.179194     -1.460491   \n",
       "4    1.0 -0.645594 -0.340352  0.645594  -1.049932  1.026429     -1.460491   \n",
       "\n",
       "   friendships_initiated  likes_received  mobile_likes  mobile_likes_received  \\\n",
       "0              -1.170249        -0.17722     -0.113885               -0.15844   \n",
       "1              -1.170249        -0.17722     -0.113885               -0.15844   \n",
       "2              -1.170249        -0.17722     -0.113885               -0.15844   \n",
       "3              -1.170249        -0.17722     -0.113885               -0.15844   \n",
       "4              -1.170249        -0.17722     -0.113885               -0.15844   \n",
       "\n",
       "   www_likes  www_likes_received  male  \n",
       "0  -0.167086           -0.173746     1  \n",
       "1  -0.167086           -0.173746     1  \n",
       "2  -0.167086           -0.173746     0  \n",
       "3  -0.167086           -0.173746     1  \n",
       "4  -0.167086           -0.173746     1  "
      ]
     },
     "execution_count": 57,
     "metadata": {},
     "output_type": "execute_result"
    }
   ],
   "source": [
    "X=sm.add_constant(X)\n",
    "X.head()"
   ]
  },
  {
   "cell_type": "code",
   "execution_count": 192,
   "metadata": {},
   "outputs": [
    {
     "data": {
      "text/plain": [
       "(2104, 14)"
      ]
     },
     "execution_count": 192,
     "metadata": {},
     "output_type": "execute_result"
    }
   ],
   "source": [
    "df.shape"
   ]
  },
  {
   "cell_type": "code",
   "execution_count": 59,
   "metadata": {},
   "outputs": [
    {
     "data": {
      "text/html": [
       "<div>\n",
       "<style scoped>\n",
       "    .dataframe tbody tr th:only-of-type {\n",
       "        vertical-align: middle;\n",
       "    }\n",
       "\n",
       "    .dataframe tbody tr th {\n",
       "        vertical-align: top;\n",
       "    }\n",
       "\n",
       "    .dataframe thead th {\n",
       "        text-align: right;\n",
       "    }\n",
       "</style>\n",
       "<table border=\"1\" class=\"dataframe\">\n",
       "  <thead>\n",
       "    <tr style=\"text-align: right;\">\n",
       "      <th></th>\n",
       "      <th>likes</th>\n",
       "      <th>likes_received</th>\n",
       "      <th>mobile_likes</th>\n",
       "      <th>mobile_likes_received</th>\n",
       "      <th>www_likes</th>\n",
       "      <th>www_likes_received</th>\n",
       "    </tr>\n",
       "  </thead>\n",
       "  <tbody>\n",
       "    <tr>\n",
       "      <th>count</th>\n",
       "      <td>2104.000000</td>\n",
       "      <td>2104.000000</td>\n",
       "      <td>2104.000000</td>\n",
       "      <td>2104.000000</td>\n",
       "      <td>2104.000000</td>\n",
       "      <td>2104.000000</td>\n",
       "    </tr>\n",
       "    <tr>\n",
       "      <th>mean</th>\n",
       "      <td>27.654468</td>\n",
       "      <td>7.934886</td>\n",
       "      <td>17.676331</td>\n",
       "      <td>4.091255</td>\n",
       "      <td>9.978137</td>\n",
       "      <td>3.843631</td>\n",
       "    </tr>\n",
       "    <tr>\n",
       "      <th>std</th>\n",
       "      <td>169.454213</td>\n",
       "      <td>44.784909</td>\n",
       "      <td>155.249561</td>\n",
       "      <td>25.828290</td>\n",
       "      <td>53.746481</td>\n",
       "      <td>22.127323</td>\n",
       "    </tr>\n",
       "    <tr>\n",
       "      <th>min</th>\n",
       "      <td>1.000000</td>\n",
       "      <td>0.000000</td>\n",
       "      <td>0.000000</td>\n",
       "      <td>0.000000</td>\n",
       "      <td>0.000000</td>\n",
       "      <td>0.000000</td>\n",
       "    </tr>\n",
       "    <tr>\n",
       "      <th>25%</th>\n",
       "      <td>1.000000</td>\n",
       "      <td>0.000000</td>\n",
       "      <td>0.000000</td>\n",
       "      <td>0.000000</td>\n",
       "      <td>0.000000</td>\n",
       "      <td>0.000000</td>\n",
       "    </tr>\n",
       "    <tr>\n",
       "      <th>50%</th>\n",
       "      <td>4.000000</td>\n",
       "      <td>1.000000</td>\n",
       "      <td>1.000000</td>\n",
       "      <td>0.000000</td>\n",
       "      <td>0.000000</td>\n",
       "      <td>0.000000</td>\n",
       "    </tr>\n",
       "    <tr>\n",
       "      <th>75%</th>\n",
       "      <td>14.000000</td>\n",
       "      <td>3.000000</td>\n",
       "      <td>6.000000</td>\n",
       "      <td>2.000000</td>\n",
       "      <td>3.000000</td>\n",
       "      <td>1.000000</td>\n",
       "    </tr>\n",
       "    <tr>\n",
       "      <th>max</th>\n",
       "      <td>5937.000000</td>\n",
       "      <td>1326.000000</td>\n",
       "      <td>5704.000000</td>\n",
       "      <td>679.000000</td>\n",
       "      <td>1580.000000</td>\n",
       "      <td>647.000000</td>\n",
       "    </tr>\n",
       "  </tbody>\n",
       "</table>\n",
       "</div>"
      ],
      "text/plain": [
       "             likes  likes_received  mobile_likes  mobile_likes_received  \\\n",
       "count  2104.000000     2104.000000   2104.000000            2104.000000   \n",
       "mean     27.654468        7.934886     17.676331               4.091255   \n",
       "std     169.454213       44.784909    155.249561              25.828290   \n",
       "min       1.000000        0.000000      0.000000               0.000000   \n",
       "25%       1.000000        0.000000      0.000000               0.000000   \n",
       "50%       4.000000        1.000000      1.000000               0.000000   \n",
       "75%      14.000000        3.000000      6.000000               2.000000   \n",
       "max    5937.000000     1326.000000   5704.000000             679.000000   \n",
       "\n",
       "         www_likes  www_likes_received  \n",
       "count  2104.000000         2104.000000  \n",
       "mean      9.978137            3.843631  \n",
       "std      53.746481           22.127323  \n",
       "min       0.000000            0.000000  \n",
       "25%       0.000000            0.000000  \n",
       "50%       0.000000            0.000000  \n",
       "75%       3.000000            1.000000  \n",
       "max    1580.000000          647.000000  "
      ]
     },
     "execution_count": 59,
     "metadata": {},
     "output_type": "execute_result"
    }
   ],
   "source": [
    "mydf_likes=mydf.iloc[:,[8,9,10,11,12,13]]\n",
    "mydf_likes.describe()"
   ]
  },
  {
   "cell_type": "code",
   "execution_count": 63,
   "metadata": {},
   "outputs": [
    {
     "data": {
      "text/html": [
       "<div>\n",
       "<style scoped>\n",
       "    .dataframe tbody tr th:only-of-type {\n",
       "        vertical-align: middle;\n",
       "    }\n",
       "\n",
       "    .dataframe tbody tr th {\n",
       "        vertical-align: top;\n",
       "    }\n",
       "\n",
       "    .dataframe thead th {\n",
       "        text-align: right;\n",
       "    }\n",
       "</style>\n",
       "<table border=\"1\" class=\"dataframe\">\n",
       "  <thead>\n",
       "    <tr style=\"text-align: right;\">\n",
       "      <th></th>\n",
       "      <th>age</th>\n",
       "      <th>dob_day</th>\n",
       "      <th>dob_year</th>\n",
       "      <th>dob_month</th>\n",
       "      <th>gender</th>\n",
       "      <th>tenure</th>\n",
       "      <th>friend_count</th>\n",
       "      <th>friendships_initiated</th>\n",
       "      <th>likes_received</th>\n",
       "      <th>mobile_likes</th>\n",
       "      <th>mobile_likes_received</th>\n",
       "      <th>www_likes</th>\n",
       "      <th>www_likes_received</th>\n",
       "    </tr>\n",
       "  </thead>\n",
       "  <tbody>\n",
       "    <tr>\n",
       "      <th>0</th>\n",
       "      <td>13</td>\n",
       "      <td>2</td>\n",
       "      <td>2000</td>\n",
       "      <td>2</td>\n",
       "      <td>male</td>\n",
       "      <td>0</td>\n",
       "      <td>0</td>\n",
       "      <td>0</td>\n",
       "      <td>0</td>\n",
       "      <td>0</td>\n",
       "      <td>0</td>\n",
       "      <td>1</td>\n",
       "      <td>0</td>\n",
       "    </tr>\n",
       "    <tr>\n",
       "      <th>1</th>\n",
       "      <td>14</td>\n",
       "      <td>22</td>\n",
       "      <td>1999</td>\n",
       "      <td>1</td>\n",
       "      <td>male</td>\n",
       "      <td>104</td>\n",
       "      <td>0</td>\n",
       "      <td>0</td>\n",
       "      <td>0</td>\n",
       "      <td>0</td>\n",
       "      <td>0</td>\n",
       "      <td>1</td>\n",
       "      <td>0</td>\n",
       "    </tr>\n",
       "    <tr>\n",
       "      <th>2</th>\n",
       "      <td>19</td>\n",
       "      <td>18</td>\n",
       "      <td>1994</td>\n",
       "      <td>10</td>\n",
       "      <td>female</td>\n",
       "      <td>212</td>\n",
       "      <td>0</td>\n",
       "      <td>0</td>\n",
       "      <td>0</td>\n",
       "      <td>0</td>\n",
       "      <td>0</td>\n",
       "      <td>1</td>\n",
       "      <td>0</td>\n",
       "    </tr>\n",
       "    <tr>\n",
       "      <th>3</th>\n",
       "      <td>21</td>\n",
       "      <td>1</td>\n",
       "      <td>1992</td>\n",
       "      <td>1</td>\n",
       "      <td>male</td>\n",
       "      <td>328</td>\n",
       "      <td>0</td>\n",
       "      <td>0</td>\n",
       "      <td>0</td>\n",
       "      <td>0</td>\n",
       "      <td>0</td>\n",
       "      <td>1</td>\n",
       "      <td>0</td>\n",
       "    </tr>\n",
       "    <tr>\n",
       "      <th>4</th>\n",
       "      <td>23</td>\n",
       "      <td>10</td>\n",
       "      <td>1990</td>\n",
       "      <td>2</td>\n",
       "      <td>male</td>\n",
       "      <td>580</td>\n",
       "      <td>0</td>\n",
       "      <td>0</td>\n",
       "      <td>0</td>\n",
       "      <td>0</td>\n",
       "      <td>0</td>\n",
       "      <td>1</td>\n",
       "      <td>0</td>\n",
       "    </tr>\n",
       "    <tr>\n",
       "      <th>...</th>\n",
       "      <td>...</td>\n",
       "      <td>...</td>\n",
       "      <td>...</td>\n",
       "      <td>...</td>\n",
       "      <td>...</td>\n",
       "      <td>...</td>\n",
       "      <td>...</td>\n",
       "      <td>...</td>\n",
       "      <td>...</td>\n",
       "      <td>...</td>\n",
       "      <td>...</td>\n",
       "      <td>...</td>\n",
       "      <td>...</td>\n",
       "    </tr>\n",
       "    <tr>\n",
       "      <th>2099</th>\n",
       "      <td>19</td>\n",
       "      <td>13</td>\n",
       "      <td>1994</td>\n",
       "      <td>3</td>\n",
       "      <td>male</td>\n",
       "      <td>304</td>\n",
       "      <td>5</td>\n",
       "      <td>2</td>\n",
       "      <td>2</td>\n",
       "      <td>1</td>\n",
       "      <td>2</td>\n",
       "      <td>0</td>\n",
       "      <td>0</td>\n",
       "    </tr>\n",
       "    <tr>\n",
       "      <th>2100</th>\n",
       "      <td>19</td>\n",
       "      <td>21</td>\n",
       "      <td>1994</td>\n",
       "      <td>4</td>\n",
       "      <td>male</td>\n",
       "      <td>12</td>\n",
       "      <td>5</td>\n",
       "      <td>1</td>\n",
       "      <td>4</td>\n",
       "      <td>1</td>\n",
       "      <td>4</td>\n",
       "      <td>0</td>\n",
       "      <td>0</td>\n",
       "    </tr>\n",
       "    <tr>\n",
       "      <th>2101</th>\n",
       "      <td>20</td>\n",
       "      <td>4</td>\n",
       "      <td>1993</td>\n",
       "      <td>4</td>\n",
       "      <td>male</td>\n",
       "      <td>128</td>\n",
       "      <td>5</td>\n",
       "      <td>5</td>\n",
       "      <td>3</td>\n",
       "      <td>1</td>\n",
       "      <td>3</td>\n",
       "      <td>0</td>\n",
       "      <td>0</td>\n",
       "    </tr>\n",
       "    <tr>\n",
       "      <th>2102</th>\n",
       "      <td>25</td>\n",
       "      <td>19</td>\n",
       "      <td>1988</td>\n",
       "      <td>1</td>\n",
       "      <td>male</td>\n",
       "      <td>52</td>\n",
       "      <td>5</td>\n",
       "      <td>5</td>\n",
       "      <td>9</td>\n",
       "      <td>1</td>\n",
       "      <td>1</td>\n",
       "      <td>0</td>\n",
       "      <td>8</td>\n",
       "    </tr>\n",
       "    <tr>\n",
       "      <th>2103</th>\n",
       "      <td>27</td>\n",
       "      <td>8</td>\n",
       "      <td>1986</td>\n",
       "      <td>8</td>\n",
       "      <td>male</td>\n",
       "      <td>1</td>\n",
       "      <td>5</td>\n",
       "      <td>5</td>\n",
       "      <td>3</td>\n",
       "      <td>1</td>\n",
       "      <td>2</td>\n",
       "      <td>0</td>\n",
       "      <td>1</td>\n",
       "    </tr>\n",
       "  </tbody>\n",
       "</table>\n",
       "<p>2104 rows × 13 columns</p>\n",
       "</div>"
      ],
      "text/plain": [
       "      age  dob_day  dob_year  dob_month  gender  tenure  friend_count  \\\n",
       "0      13        2      2000          2    male       0             0   \n",
       "1      14       22      1999          1    male     104             0   \n",
       "2      19       18      1994         10  female     212             0   \n",
       "3      21        1      1992          1    male     328             0   \n",
       "4      23       10      1990          2    male     580             0   \n",
       "...   ...      ...       ...        ...     ...     ...           ...   \n",
       "2099   19       13      1994          3    male     304             5   \n",
       "2100   19       21      1994          4    male      12             5   \n",
       "2101   20        4      1993          4    male     128             5   \n",
       "2102   25       19      1988          1    male      52             5   \n",
       "2103   27        8      1986          8    male       1             5   \n",
       "\n",
       "      friendships_initiated  likes_received  mobile_likes  \\\n",
       "0                         0               0             0   \n",
       "1                         0               0             0   \n",
       "2                         0               0             0   \n",
       "3                         0               0             0   \n",
       "4                         0               0             0   \n",
       "...                     ...             ...           ...   \n",
       "2099                      2               2             1   \n",
       "2100                      1               4             1   \n",
       "2101                      5               3             1   \n",
       "2102                      5               9             1   \n",
       "2103                      5               3             1   \n",
       "\n",
       "      mobile_likes_received  www_likes  www_likes_received  \n",
       "0                         0          1                   0  \n",
       "1                         0          1                   0  \n",
       "2                         0          1                   0  \n",
       "3                         0          1                   0  \n",
       "4                         0          1                   0  \n",
       "...                     ...        ...                 ...  \n",
       "2099                      2          0                   0  \n",
       "2100                      4          0                   0  \n",
       "2101                      3          0                   0  \n",
       "2102                      1          0                   8  \n",
       "2103                      2          0                   1  \n",
       "\n",
       "[2104 rows x 13 columns]"
      ]
     },
     "execution_count": 63,
     "metadata": {},
     "output_type": "execute_result"
    }
   ],
   "source": [
    "mydf.drop(columns=[\"likes\",])"
   ]
  },
  {
   "cell_type": "code",
   "execution_count": 64,
   "metadata": {},
   "outputs": [
    {
     "data": {
      "text/html": [
       "<div>\n",
       "<style scoped>\n",
       "    .dataframe tbody tr th:only-of-type {\n",
       "        vertical-align: middle;\n",
       "    }\n",
       "\n",
       "    .dataframe tbody tr th {\n",
       "        vertical-align: top;\n",
       "    }\n",
       "\n",
       "    .dataframe thead th {\n",
       "        text-align: right;\n",
       "    }\n",
       "</style>\n",
       "<table border=\"1\" class=\"dataframe\">\n",
       "  <thead>\n",
       "    <tr style=\"text-align: right;\">\n",
       "      <th></th>\n",
       "      <th>age</th>\n",
       "      <th>dob_day</th>\n",
       "      <th>dob_year</th>\n",
       "      <th>dob_month</th>\n",
       "      <th>gender</th>\n",
       "      <th>tenure</th>\n",
       "      <th>friend_count</th>\n",
       "      <th>friendships_initiated</th>\n",
       "      <th>likes</th>\n",
       "      <th>likes_received</th>\n",
       "      <th>mobile_likes</th>\n",
       "      <th>mobile_likes_received</th>\n",
       "      <th>www_likes</th>\n",
       "      <th>www_likes_received</th>\n",
       "    </tr>\n",
       "  </thead>\n",
       "  <tbody>\n",
       "    <tr>\n",
       "      <th>0</th>\n",
       "      <td>13</td>\n",
       "      <td>2</td>\n",
       "      <td>2000</td>\n",
       "      <td>2</td>\n",
       "      <td>male</td>\n",
       "      <td>0</td>\n",
       "      <td>0</td>\n",
       "      <td>0</td>\n",
       "      <td>1</td>\n",
       "      <td>0</td>\n",
       "      <td>0</td>\n",
       "      <td>0</td>\n",
       "      <td>1</td>\n",
       "      <td>0</td>\n",
       "    </tr>\n",
       "    <tr>\n",
       "      <th>1</th>\n",
       "      <td>14</td>\n",
       "      <td>22</td>\n",
       "      <td>1999</td>\n",
       "      <td>1</td>\n",
       "      <td>male</td>\n",
       "      <td>104</td>\n",
       "      <td>0</td>\n",
       "      <td>0</td>\n",
       "      <td>1</td>\n",
       "      <td>0</td>\n",
       "      <td>0</td>\n",
       "      <td>0</td>\n",
       "      <td>1</td>\n",
       "      <td>0</td>\n",
       "    </tr>\n",
       "    <tr>\n",
       "      <th>2</th>\n",
       "      <td>19</td>\n",
       "      <td>18</td>\n",
       "      <td>1994</td>\n",
       "      <td>10</td>\n",
       "      <td>female</td>\n",
       "      <td>212</td>\n",
       "      <td>0</td>\n",
       "      <td>0</td>\n",
       "      <td>1</td>\n",
       "      <td>0</td>\n",
       "      <td>0</td>\n",
       "      <td>0</td>\n",
       "      <td>1</td>\n",
       "      <td>0</td>\n",
       "    </tr>\n",
       "    <tr>\n",
       "      <th>3</th>\n",
       "      <td>21</td>\n",
       "      <td>1</td>\n",
       "      <td>1992</td>\n",
       "      <td>1</td>\n",
       "      <td>male</td>\n",
       "      <td>328</td>\n",
       "      <td>0</td>\n",
       "      <td>0</td>\n",
       "      <td>1</td>\n",
       "      <td>0</td>\n",
       "      <td>0</td>\n",
       "      <td>0</td>\n",
       "      <td>1</td>\n",
       "      <td>0</td>\n",
       "    </tr>\n",
       "    <tr>\n",
       "      <th>4</th>\n",
       "      <td>23</td>\n",
       "      <td>10</td>\n",
       "      <td>1990</td>\n",
       "      <td>2</td>\n",
       "      <td>male</td>\n",
       "      <td>580</td>\n",
       "      <td>0</td>\n",
       "      <td>0</td>\n",
       "      <td>1</td>\n",
       "      <td>0</td>\n",
       "      <td>0</td>\n",
       "      <td>0</td>\n",
       "      <td>1</td>\n",
       "      <td>0</td>\n",
       "    </tr>\n",
       "  </tbody>\n",
       "</table>\n",
       "</div>"
      ],
      "text/plain": [
       "   age  dob_day  dob_year  dob_month  gender  tenure  friend_count  \\\n",
       "0   13        2      2000          2    male       0             0   \n",
       "1   14       22      1999          1    male     104             0   \n",
       "2   19       18      1994         10  female     212             0   \n",
       "3   21        1      1992          1    male     328             0   \n",
       "4   23       10      1990          2    male     580             0   \n",
       "\n",
       "   friendships_initiated  likes  likes_received  mobile_likes  \\\n",
       "0                      0      1               0             0   \n",
       "1                      0      1               0             0   \n",
       "2                      0      1               0             0   \n",
       "3                      0      1               0             0   \n",
       "4                      0      1               0             0   \n",
       "\n",
       "   mobile_likes_received  www_likes  www_likes_received  \n",
       "0                      0          1                   0  \n",
       "1                      0          1                   0  \n",
       "2                      0          1                   0  \n",
       "3                      0          1                   0  \n",
       "4                      0          1                   0  "
      ]
     },
     "execution_count": 64,
     "metadata": {},
     "output_type": "execute_result"
    }
   ],
   "source": [
    "mydf.head()"
   ]
  },
  {
   "cell_type": "markdown",
   "metadata": {},
   "source": [
    "We use variance_inflation_factor  method  to  remove the Multi-Collinearity"
   ]
  },
  {
   "cell_type": "code",
   "execution_count": 65,
   "metadata": {},
   "outputs": [
    {
     "data": {
      "text/html": [
       "<div>\n",
       "<style scoped>\n",
       "    .dataframe tbody tr th:only-of-type {\n",
       "        vertical-align: middle;\n",
       "    }\n",
       "\n",
       "    .dataframe tbody tr th {\n",
       "        vertical-align: top;\n",
       "    }\n",
       "\n",
       "    .dataframe thead th {\n",
       "        text-align: right;\n",
       "    }\n",
       "</style>\n",
       "<table border=\"1\" class=\"dataframe\">\n",
       "  <thead>\n",
       "    <tr style=\"text-align: right;\">\n",
       "      <th></th>\n",
       "      <th>age</th>\n",
       "      <th>dob_day</th>\n",
       "      <th>dob_year</th>\n",
       "      <th>dob_month</th>\n",
       "      <th>tenure</th>\n",
       "      <th>friend_count</th>\n",
       "      <th>friendships_initiated</th>\n",
       "      <th>likes</th>\n",
       "      <th>likes_received</th>\n",
       "      <th>mobile_likes</th>\n",
       "      <th>mobile_likes_received</th>\n",
       "      <th>www_likes</th>\n",
       "      <th>www_likes_received</th>\n",
       "    </tr>\n",
       "  </thead>\n",
       "  <tbody>\n",
       "    <tr>\n",
       "      <th>0</th>\n",
       "      <td>13</td>\n",
       "      <td>2</td>\n",
       "      <td>2000</td>\n",
       "      <td>2</td>\n",
       "      <td>0</td>\n",
       "      <td>0</td>\n",
       "      <td>0</td>\n",
       "      <td>1</td>\n",
       "      <td>0</td>\n",
       "      <td>0</td>\n",
       "      <td>0</td>\n",
       "      <td>1</td>\n",
       "      <td>0</td>\n",
       "    </tr>\n",
       "    <tr>\n",
       "      <th>1</th>\n",
       "      <td>14</td>\n",
       "      <td>22</td>\n",
       "      <td>1999</td>\n",
       "      <td>1</td>\n",
       "      <td>104</td>\n",
       "      <td>0</td>\n",
       "      <td>0</td>\n",
       "      <td>1</td>\n",
       "      <td>0</td>\n",
       "      <td>0</td>\n",
       "      <td>0</td>\n",
       "      <td>1</td>\n",
       "      <td>0</td>\n",
       "    </tr>\n",
       "    <tr>\n",
       "      <th>2</th>\n",
       "      <td>19</td>\n",
       "      <td>18</td>\n",
       "      <td>1994</td>\n",
       "      <td>10</td>\n",
       "      <td>212</td>\n",
       "      <td>0</td>\n",
       "      <td>0</td>\n",
       "      <td>1</td>\n",
       "      <td>0</td>\n",
       "      <td>0</td>\n",
       "      <td>0</td>\n",
       "      <td>1</td>\n",
       "      <td>0</td>\n",
       "    </tr>\n",
       "    <tr>\n",
       "      <th>3</th>\n",
       "      <td>21</td>\n",
       "      <td>1</td>\n",
       "      <td>1992</td>\n",
       "      <td>1</td>\n",
       "      <td>328</td>\n",
       "      <td>0</td>\n",
       "      <td>0</td>\n",
       "      <td>1</td>\n",
       "      <td>0</td>\n",
       "      <td>0</td>\n",
       "      <td>0</td>\n",
       "      <td>1</td>\n",
       "      <td>0</td>\n",
       "    </tr>\n",
       "    <tr>\n",
       "      <th>4</th>\n",
       "      <td>23</td>\n",
       "      <td>10</td>\n",
       "      <td>1990</td>\n",
       "      <td>2</td>\n",
       "      <td>580</td>\n",
       "      <td>0</td>\n",
       "      <td>0</td>\n",
       "      <td>1</td>\n",
       "      <td>0</td>\n",
       "      <td>0</td>\n",
       "      <td>0</td>\n",
       "      <td>1</td>\n",
       "      <td>0</td>\n",
       "    </tr>\n",
       "  </tbody>\n",
       "</table>\n",
       "</div>"
      ],
      "text/plain": [
       "   age  dob_day  dob_year  dob_month  tenure  friend_count  \\\n",
       "0   13        2      2000          2       0             0   \n",
       "1   14       22      1999          1     104             0   \n",
       "2   19       18      1994         10     212             0   \n",
       "3   21        1      1992          1     328             0   \n",
       "4   23       10      1990          2     580             0   \n",
       "\n",
       "   friendships_initiated  likes  likes_received  mobile_likes  \\\n",
       "0                      0      1               0             0   \n",
       "1                      0      1               0             0   \n",
       "2                      0      1               0             0   \n",
       "3                      0      1               0             0   \n",
       "4                      0      1               0             0   \n",
       "\n",
       "   mobile_likes_received  www_likes  www_likes_received  \n",
       "0                      0          1                   0  \n",
       "1                      0          1                   0  \n",
       "2                      0          1                   0  \n",
       "3                      0          1                   0  \n",
       "4                      0          1                   0  "
      ]
     },
     "execution_count": 65,
     "metadata": {},
     "output_type": "execute_result"
    }
   ],
   "source": [
    "mydf_numeric = mydf.select_dtypes(include=[np.number])\n",
    "mydf_numeric.head()"
   ]
  },
  {
   "cell_type": "code",
   "execution_count": 66,
   "metadata": {},
   "outputs": [
    {
     "data": {
      "text/html": [
       "<div>\n",
       "<style scoped>\n",
       "    .dataframe tbody tr th:only-of-type {\n",
       "        vertical-align: middle;\n",
       "    }\n",
       "\n",
       "    .dataframe tbody tr th {\n",
       "        vertical-align: top;\n",
       "    }\n",
       "\n",
       "    .dataframe thead th {\n",
       "        text-align: right;\n",
       "    }\n",
       "</style>\n",
       "<table border=\"1\" class=\"dataframe\">\n",
       "  <thead>\n",
       "    <tr style=\"text-align: right;\">\n",
       "      <th></th>\n",
       "      <th>VIF_Factor</th>\n",
       "      <th>Features</th>\n",
       "    </tr>\n",
       "  </thead>\n",
       "  <tbody>\n",
       "    <tr>\n",
       "      <th>7</th>\n",
       "      <td>inf</td>\n",
       "      <td>likes</td>\n",
       "    </tr>\n",
       "    <tr>\n",
       "      <th>8</th>\n",
       "      <td>inf</td>\n",
       "      <td>likes_received</td>\n",
       "    </tr>\n",
       "    <tr>\n",
       "      <th>9</th>\n",
       "      <td>inf</td>\n",
       "      <td>mobile_likes</td>\n",
       "    </tr>\n",
       "    <tr>\n",
       "      <th>10</th>\n",
       "      <td>inf</td>\n",
       "      <td>mobile_likes_received</td>\n",
       "    </tr>\n",
       "    <tr>\n",
       "      <th>11</th>\n",
       "      <td>inf</td>\n",
       "      <td>www_likes</td>\n",
       "    </tr>\n",
       "    <tr>\n",
       "      <th>12</th>\n",
       "      <td>inf</td>\n",
       "      <td>www_likes_received</td>\n",
       "    </tr>\n",
       "    <tr>\n",
       "      <th>2</th>\n",
       "      <td>10.253155</td>\n",
       "      <td>dob_year</td>\n",
       "    </tr>\n",
       "    <tr>\n",
       "      <th>0</th>\n",
       "      <td>5.348577</td>\n",
       "      <td>age</td>\n",
       "    </tr>\n",
       "    <tr>\n",
       "      <th>5</th>\n",
       "      <td>2.709166</td>\n",
       "      <td>friend_count</td>\n",
       "    </tr>\n",
       "    <tr>\n",
       "      <th>6</th>\n",
       "      <td>2.699337</td>\n",
       "      <td>friendships_initiated</td>\n",
       "    </tr>\n",
       "    <tr>\n",
       "      <th>3</th>\n",
       "      <td>1.073548</td>\n",
       "      <td>dob_month</td>\n",
       "    </tr>\n",
       "    <tr>\n",
       "      <th>1</th>\n",
       "      <td>1.068989</td>\n",
       "      <td>dob_day</td>\n",
       "    </tr>\n",
       "    <tr>\n",
       "      <th>4</th>\n",
       "      <td>1.059891</td>\n",
       "      <td>tenure</td>\n",
       "    </tr>\n",
       "  </tbody>\n",
       "</table>\n",
       "</div>"
      ],
      "text/plain": [
       "    VIF_Factor               Features\n",
       "7          inf                  likes\n",
       "8          inf         likes_received\n",
       "9          inf           mobile_likes\n",
       "10         inf  mobile_likes_received\n",
       "11         inf              www_likes\n",
       "12         inf     www_likes_received\n",
       "2    10.253155               dob_year\n",
       "0     5.348577                    age\n",
       "5     2.709166           friend_count\n",
       "6     2.699337  friendships_initiated\n",
       "3     1.073548              dob_month\n",
       "1     1.068989                dob_day\n",
       "4     1.059891                 tenure"
      ]
     },
     "execution_count": 66,
     "metadata": {},
     "output_type": "execute_result"
    }
   ],
   "source": [
    "vif=pd.DataFrame()\n",
    "vif['VIF_Factor']=[variance_inflation_factor(mydf_numeric.values,i) for  i  in  range(mydf_numeric.shape[1])]\n",
    "vif['Features']=mydf_numeric.columns\n",
    "vif.sort_values(by='VIF_Factor',ascending=False)"
   ]
  },
  {
   "cell_type": "code",
   "execution_count": 67,
   "metadata": {},
   "outputs": [
    {
     "data": {
      "text/html": [
       "<div>\n",
       "<style scoped>\n",
       "    .dataframe tbody tr th:only-of-type {\n",
       "        vertical-align: middle;\n",
       "    }\n",
       "\n",
       "    .dataframe tbody tr th {\n",
       "        vertical-align: top;\n",
       "    }\n",
       "\n",
       "    .dataframe thead th {\n",
       "        text-align: right;\n",
       "    }\n",
       "</style>\n",
       "<table border=\"1\" class=\"dataframe\">\n",
       "  <thead>\n",
       "    <tr style=\"text-align: right;\">\n",
       "      <th></th>\n",
       "      <th>const</th>\n",
       "      <th>age</th>\n",
       "      <th>dob_day</th>\n",
       "      <th>dob_year</th>\n",
       "      <th>dob_month</th>\n",
       "      <th>tenure</th>\n",
       "      <th>friend_count</th>\n",
       "      <th>friendships_initiated</th>\n",
       "      <th>likes_received</th>\n",
       "      <th>mobile_likes</th>\n",
       "      <th>mobile_likes_received</th>\n",
       "      <th>www_likes</th>\n",
       "      <th>www_likes_received</th>\n",
       "      <th>male</th>\n",
       "    </tr>\n",
       "  </thead>\n",
       "  <tbody>\n",
       "    <tr>\n",
       "      <th>0</th>\n",
       "      <td>1.0</td>\n",
       "      <td>-1.264734</td>\n",
       "      <td>-1.206123</td>\n",
       "      <td>1.264734</td>\n",
       "      <td>-1.049932</td>\n",
       "      <td>-0.923558</td>\n",
       "      <td>-1.460491</td>\n",
       "      <td>-1.170249</td>\n",
       "      <td>-0.17722</td>\n",
       "      <td>-0.113885</td>\n",
       "      <td>-0.15844</td>\n",
       "      <td>-0.167086</td>\n",
       "      <td>-0.173746</td>\n",
       "      <td>1</td>\n",
       "    </tr>\n",
       "    <tr>\n",
       "      <th>1</th>\n",
       "      <td>1.0</td>\n",
       "      <td>-1.202820</td>\n",
       "      <td>0.958305</td>\n",
       "      <td>1.202820</td>\n",
       "      <td>-1.320351</td>\n",
       "      <td>-0.573905</td>\n",
       "      <td>-1.460491</td>\n",
       "      <td>-1.170249</td>\n",
       "      <td>-0.17722</td>\n",
       "      <td>-0.113885</td>\n",
       "      <td>-0.15844</td>\n",
       "      <td>-0.167086</td>\n",
       "      <td>-0.173746</td>\n",
       "      <td>1</td>\n",
       "    </tr>\n",
       "    <tr>\n",
       "      <th>2</th>\n",
       "      <td>1.0</td>\n",
       "      <td>-0.893250</td>\n",
       "      <td>0.525419</td>\n",
       "      <td>0.893250</td>\n",
       "      <td>1.113424</td>\n",
       "      <td>-0.210804</td>\n",
       "      <td>-1.460491</td>\n",
       "      <td>-1.170249</td>\n",
       "      <td>-0.17722</td>\n",
       "      <td>-0.113885</td>\n",
       "      <td>-0.15844</td>\n",
       "      <td>-0.167086</td>\n",
       "      <td>-0.173746</td>\n",
       "      <td>0</td>\n",
       "    </tr>\n",
       "    <tr>\n",
       "      <th>3</th>\n",
       "      <td>1.0</td>\n",
       "      <td>-0.769422</td>\n",
       "      <td>-1.314345</td>\n",
       "      <td>0.769422</td>\n",
       "      <td>-1.320351</td>\n",
       "      <td>0.179194</td>\n",
       "      <td>-1.460491</td>\n",
       "      <td>-1.170249</td>\n",
       "      <td>-0.17722</td>\n",
       "      <td>-0.113885</td>\n",
       "      <td>-0.15844</td>\n",
       "      <td>-0.167086</td>\n",
       "      <td>-0.173746</td>\n",
       "      <td>1</td>\n",
       "    </tr>\n",
       "    <tr>\n",
       "      <th>4</th>\n",
       "      <td>1.0</td>\n",
       "      <td>-0.645594</td>\n",
       "      <td>-0.340352</td>\n",
       "      <td>0.645594</td>\n",
       "      <td>-1.049932</td>\n",
       "      <td>1.026429</td>\n",
       "      <td>-1.460491</td>\n",
       "      <td>-1.170249</td>\n",
       "      <td>-0.17722</td>\n",
       "      <td>-0.113885</td>\n",
       "      <td>-0.15844</td>\n",
       "      <td>-0.167086</td>\n",
       "      <td>-0.173746</td>\n",
       "      <td>1</td>\n",
       "    </tr>\n",
       "  </tbody>\n",
       "</table>\n",
       "</div>"
      ],
      "text/plain": [
       "   const       age   dob_day  dob_year  dob_month    tenure  friend_count  \\\n",
       "0    1.0 -1.264734 -1.206123  1.264734  -1.049932 -0.923558     -1.460491   \n",
       "1    1.0 -1.202820  0.958305  1.202820  -1.320351 -0.573905     -1.460491   \n",
       "2    1.0 -0.893250  0.525419  0.893250   1.113424 -0.210804     -1.460491   \n",
       "3    1.0 -0.769422 -1.314345  0.769422  -1.320351  0.179194     -1.460491   \n",
       "4    1.0 -0.645594 -0.340352  0.645594  -1.049932  1.026429     -1.460491   \n",
       "\n",
       "   friendships_initiated  likes_received  mobile_likes  mobile_likes_received  \\\n",
       "0              -1.170249        -0.17722     -0.113885               -0.15844   \n",
       "1              -1.170249        -0.17722     -0.113885               -0.15844   \n",
       "2              -1.170249        -0.17722     -0.113885               -0.15844   \n",
       "3              -1.170249        -0.17722     -0.113885               -0.15844   \n",
       "4              -1.170249        -0.17722     -0.113885               -0.15844   \n",
       "\n",
       "   www_likes  www_likes_received  male  \n",
       "0  -0.167086           -0.173746     1  \n",
       "1  -0.167086           -0.173746     1  \n",
       "2  -0.167086           -0.173746     0  \n",
       "3  -0.167086           -0.173746     1  \n",
       "4  -0.167086           -0.173746     1  "
      ]
     },
     "execution_count": 67,
     "metadata": {},
     "output_type": "execute_result"
    }
   ],
   "source": [
    "X.head()"
   ]
  },
  {
   "cell_type": "code",
   "execution_count": 68,
   "metadata": {},
   "outputs": [
    {
     "data": {
      "text/html": [
       "<div>\n",
       "<style scoped>\n",
       "    .dataframe tbody tr th:only-of-type {\n",
       "        vertical-align: middle;\n",
       "    }\n",
       "\n",
       "    .dataframe tbody tr th {\n",
       "        vertical-align: top;\n",
       "    }\n",
       "\n",
       "    .dataframe thead th {\n",
       "        text-align: right;\n",
       "    }\n",
       "</style>\n",
       "<table border=\"1\" class=\"dataframe\">\n",
       "  <thead>\n",
       "    <tr style=\"text-align: right;\">\n",
       "      <th></th>\n",
       "      <th>const</th>\n",
       "      <th>age</th>\n",
       "      <th>dob_day</th>\n",
       "      <th>dob_year</th>\n",
       "      <th>dob_month</th>\n",
       "      <th>tenure</th>\n",
       "      <th>friend_count</th>\n",
       "      <th>friendships_initiated</th>\n",
       "      <th>mobile_likes</th>\n",
       "      <th>mobile_likes_received</th>\n",
       "      <th>www_likes_received</th>\n",
       "      <th>male</th>\n",
       "    </tr>\n",
       "  </thead>\n",
       "  <tbody>\n",
       "    <tr>\n",
       "      <th>0</th>\n",
       "      <td>1.0</td>\n",
       "      <td>-1.264734</td>\n",
       "      <td>-1.206123</td>\n",
       "      <td>1.264734</td>\n",
       "      <td>-1.049932</td>\n",
       "      <td>-0.923558</td>\n",
       "      <td>-1.460491</td>\n",
       "      <td>-1.170249</td>\n",
       "      <td>-0.113885</td>\n",
       "      <td>-0.15844</td>\n",
       "      <td>-0.173746</td>\n",
       "      <td>1</td>\n",
       "    </tr>\n",
       "    <tr>\n",
       "      <th>1</th>\n",
       "      <td>1.0</td>\n",
       "      <td>-1.202820</td>\n",
       "      <td>0.958305</td>\n",
       "      <td>1.202820</td>\n",
       "      <td>-1.320351</td>\n",
       "      <td>-0.573905</td>\n",
       "      <td>-1.460491</td>\n",
       "      <td>-1.170249</td>\n",
       "      <td>-0.113885</td>\n",
       "      <td>-0.15844</td>\n",
       "      <td>-0.173746</td>\n",
       "      <td>1</td>\n",
       "    </tr>\n",
       "    <tr>\n",
       "      <th>2</th>\n",
       "      <td>1.0</td>\n",
       "      <td>-0.893250</td>\n",
       "      <td>0.525419</td>\n",
       "      <td>0.893250</td>\n",
       "      <td>1.113424</td>\n",
       "      <td>-0.210804</td>\n",
       "      <td>-1.460491</td>\n",
       "      <td>-1.170249</td>\n",
       "      <td>-0.113885</td>\n",
       "      <td>-0.15844</td>\n",
       "      <td>-0.173746</td>\n",
       "      <td>0</td>\n",
       "    </tr>\n",
       "    <tr>\n",
       "      <th>3</th>\n",
       "      <td>1.0</td>\n",
       "      <td>-0.769422</td>\n",
       "      <td>-1.314345</td>\n",
       "      <td>0.769422</td>\n",
       "      <td>-1.320351</td>\n",
       "      <td>0.179194</td>\n",
       "      <td>-1.460491</td>\n",
       "      <td>-1.170249</td>\n",
       "      <td>-0.113885</td>\n",
       "      <td>-0.15844</td>\n",
       "      <td>-0.173746</td>\n",
       "      <td>1</td>\n",
       "    </tr>\n",
       "    <tr>\n",
       "      <th>4</th>\n",
       "      <td>1.0</td>\n",
       "      <td>-0.645594</td>\n",
       "      <td>-0.340352</td>\n",
       "      <td>0.645594</td>\n",
       "      <td>-1.049932</td>\n",
       "      <td>1.026429</td>\n",
       "      <td>-1.460491</td>\n",
       "      <td>-1.170249</td>\n",
       "      <td>-0.113885</td>\n",
       "      <td>-0.15844</td>\n",
       "      <td>-0.173746</td>\n",
       "      <td>1</td>\n",
       "    </tr>\n",
       "  </tbody>\n",
       "</table>\n",
       "</div>"
      ],
      "text/plain": [
       "   const       age   dob_day  dob_year  dob_month    tenure  friend_count  \\\n",
       "0    1.0 -1.264734 -1.206123  1.264734  -1.049932 -0.923558     -1.460491   \n",
       "1    1.0 -1.202820  0.958305  1.202820  -1.320351 -0.573905     -1.460491   \n",
       "2    1.0 -0.893250  0.525419  0.893250   1.113424 -0.210804     -1.460491   \n",
       "3    1.0 -0.769422 -1.314345  0.769422  -1.320351  0.179194     -1.460491   \n",
       "4    1.0 -0.645594 -0.340352  0.645594  -1.049932  1.026429     -1.460491   \n",
       "\n",
       "   friendships_initiated  mobile_likes  mobile_likes_received  \\\n",
       "0              -1.170249     -0.113885               -0.15844   \n",
       "1              -1.170249     -0.113885               -0.15844   \n",
       "2              -1.170249     -0.113885               -0.15844   \n",
       "3              -1.170249     -0.113885               -0.15844   \n",
       "4              -1.170249     -0.113885               -0.15844   \n",
       "\n",
       "   www_likes_received  male  \n",
       "0           -0.173746     1  \n",
       "1           -0.173746     1  \n",
       "2           -0.173746     0  \n",
       "3           -0.173746     1  \n",
       "4           -0.173746     1  "
      ]
     },
     "execution_count": 68,
     "metadata": {},
     "output_type": "execute_result"
    }
   ],
   "source": [
    "X1=X[['const', 'age', 'dob_day', 'dob_year', 'dob_month', 'tenure',\n",
    "       'friend_count', 'friendships_initiated',\n",
    "       'mobile_likes', 'mobile_likes_received',\n",
    "       'www_likes_received', 'male']]\n",
    "X1.head()"
   ]
  },
  {
   "cell_type": "code",
   "execution_count": 71,
   "metadata": {},
   "outputs": [
    {
     "data": {
      "text/plain": [
       "0   -0.157296\n",
       "1   -0.157296\n",
       "2   -0.157296\n",
       "3   -0.157296\n",
       "4   -0.157296\n",
       "Name: likes, dtype: float64"
      ]
     },
     "execution_count": 71,
     "metadata": {},
     "output_type": "execute_result"
    }
   ],
   "source": [
    "y1.head()"
   ]
  },
  {
   "cell_type": "code",
   "execution_count": 72,
   "metadata": {},
   "outputs": [],
   "source": [
    "X1=sm.add_constant(X1)"
   ]
  },
  {
   "cell_type": "code",
   "execution_count": 73,
   "metadata": {},
   "outputs": [],
   "source": [
    "X_train,X_test,y_train,y_test=train_test_split(X1,y1,random_state=39,test_size=0.3)"
   ]
  },
  {
   "cell_type": "code",
   "execution_count": 74,
   "metadata": {},
   "outputs": [
    {
     "data": {
      "text/plain": [
       "(1472, 12)"
      ]
     },
     "execution_count": 74,
     "metadata": {},
     "output_type": "execute_result"
    }
   ],
   "source": [
    "X_train.shape"
   ]
  },
  {
   "cell_type": "code",
   "execution_count": 75,
   "metadata": {},
   "outputs": [
    {
     "data": {
      "text/plain": [
       "(632, 12)"
      ]
     },
     "execution_count": 75,
     "metadata": {},
     "output_type": "execute_result"
    }
   ],
   "source": [
    "X_test.shape"
   ]
  },
  {
   "cell_type": "code",
   "execution_count": 76,
   "metadata": {},
   "outputs": [
    {
     "data": {
      "text/plain": [
       "(1472,)"
      ]
     },
     "execution_count": 76,
     "metadata": {},
     "output_type": "execute_result"
    }
   ],
   "source": [
    "y_train.shape"
   ]
  },
  {
   "cell_type": "code",
   "execution_count": 77,
   "metadata": {},
   "outputs": [
    {
     "data": {
      "text/plain": [
       "(632,)"
      ]
     },
     "execution_count": 77,
     "metadata": {},
     "output_type": "execute_result"
    }
   ],
   "source": [
    "y_test.shape"
   ]
  },
  {
   "cell_type": "markdown",
   "metadata": {},
   "source": [
    "<h2 class=\"list-group-item list-group-item-action active\" >Model Building and Feature Selection using RFE(Recursive feature elimination)   </h2>"
   ]
  },
  {
   "cell_type": "code",
   "execution_count": 79,
   "metadata": {},
   "outputs": [],
   "source": [
    "from sklearn.model_selection import cross_val_score\n",
    "from sklearn.model_selection import LeaveOneOut\n",
    "\n",
    "from sklearn.linear_model import SGDRegressor\n",
    "\n",
    "from sklearn.linear_model import Lasso\n",
    "from sklearn.linear_model import Ridge\n",
    "from sklearn.linear_model import ElasticNet\n",
    "from sklearn.model_selection import GridSearchCV"
   ]
  },
  {
   "cell_type": "code",
   "execution_count": 80,
   "metadata": {},
   "outputs": [
    {
     "name": "stdout",
     "output_type": "stream",
     "text": [
      "                            OLS Regression Results                            \n",
      "==============================================================================\n",
      "Dep. Variable:                  likes   R-squared:                       0.960\n",
      "Model:                            OLS   Adj. R-squared:                  0.960\n",
      "Method:                 Least Squares   F-statistic:                     3539.\n",
      "Date:                Mon, 23 Aug 2021   Prob (F-statistic):               0.00\n",
      "Time:                        21:59:40   Log-Likelihood:                 77.648\n",
      "No. Observations:                1472   AIC:                            -133.3\n",
      "Df Residuals:                    1461   BIC:                            -75.06\n",
      "Df Model:                          10                                         \n",
      "Covariance Type:            nonrobust                                         \n",
      "=========================================================================================\n",
      "                            coef    std err          t      P>|t|      [0.025      0.975]\n",
      "-----------------------------------------------------------------------------------------\n",
      "const                     0.0086      0.010      0.833      0.405      -0.012       0.029\n",
      "age                      -0.0025      0.003     -0.798      0.425      -0.009       0.004\n",
      "dob_day                   0.0064      0.006      1.037      0.300      -0.006       0.019\n",
      "dob_year                  0.0025      0.003      0.798      0.425      -0.004       0.009\n",
      "dob_month                 0.0023      0.006      0.359      0.719      -0.010       0.015\n",
      "tenure                    0.0022      0.006      0.356      0.722      -0.010       0.014\n",
      "friend_count             -0.0014      0.010     -0.145      0.884      -0.021       0.018\n",
      "friendships_initiated     0.0041      0.010      0.421      0.674      -0.015       0.023\n",
      "mobile_likes              0.8986      0.005    170.452      0.000       0.888       0.909\n",
      "mobile_likes_received    -0.0139      0.008     -1.637      0.102      -0.031       0.003\n",
      "www_likes_received        0.2480      0.010     25.831      0.000       0.229       0.267\n",
      "male                     -0.0103      0.013     -0.811      0.418      -0.035       0.015\n",
      "==============================================================================\n",
      "Omnibus:                     1381.908   Durbin-Watson:                   1.928\n",
      "Prob(Omnibus):                  0.000   Jarque-Bera (JB):           318980.465\n",
      "Skew:                           3.715   Prob(JB):                         0.00\n",
      "Kurtosis:                      74.733   Cond. No.                     5.67e+15\n",
      "==============================================================================\n",
      "\n",
      "Notes:\n",
      "[1] Standard Errors assume that the covariance matrix of the errors is correctly specified.\n",
      "[2] The smallest eigenvalue is 1.03e-28. This might indicate that there are\n",
      "strong multicollinearity problems or that the design matrix is singular.\n"
     ]
    }
   ],
   "source": [
    "model=sm.OLS(y_train,X_train).fit()\n",
    "print(model.summary())"
   ]
  },
  {
   "cell_type": "code",
   "execution_count": 81,
   "metadata": {},
   "outputs": [
    {
     "name": "stdout",
     "output_type": "stream",
     "text": [
      "RMSE Train value : 0.22953764427680234\n"
     ]
    }
   ],
   "source": [
    "y_train_pred=model.predict(X_train)\n",
    "mse_train=mean_squared_error(y_train,y_train_pred)\n",
    "rmse_train=np.sqrt(mse_train)\n",
    "print(\"RMSE Train value :\",rmse_train)"
   ]
  },
  {
   "cell_type": "code",
   "execution_count": 82,
   "metadata": {},
   "outputs": [
    {
     "name": "stdout",
     "output_type": "stream",
     "text": [
      "Sum of Squared Residuals: 1878.4455386772802\n"
     ]
    }
   ],
   "source": [
    "SSR=np.sum((y_train_pred - y_train.mean())**2)\n",
    "print(\"Sum of Squared Residuals:\",SSR)"
   ]
  },
  {
   "cell_type": "code",
   "execution_count": 83,
   "metadata": {},
   "outputs": [
    {
     "name": "stdout",
     "output_type": "stream",
     "text": [
      "Sum of Squared Errors: 77.55604436629176\n"
     ]
    }
   ],
   "source": [
    "SSE=np.sum((y_train - y_train_pred)**2)\n",
    "print(\"Sum of Squared Errors:\",SSE)"
   ]
  },
  {
   "cell_type": "code",
   "execution_count": 84,
   "metadata": {},
   "outputs": [
    {
     "name": "stdout",
     "output_type": "stream",
     "text": [
      "Sum of Squared Total: 1956.0015830435746\n"
     ]
    }
   ],
   "source": [
    "SST = np.sum((y_train - y_train.mean())**2)\n",
    "print(\"Sum of Squared Total:\",SST)"
   ]
  },
  {
   "cell_type": "code",
   "execution_count": 85,
   "metadata": {},
   "outputs": [
    {
     "data": {
      "text/plain": [
       "0.960349702659436"
      ]
     },
     "execution_count": 85,
     "metadata": {},
     "output_type": "execute_result"
    }
   ],
   "source": [
    "model.rsquared"
   ]
  },
  {
   "cell_type": "code",
   "execution_count": 86,
   "metadata": {},
   "outputs": [
    {
     "data": {
      "text/plain": [
       "0.9600783111649762"
      ]
     },
     "execution_count": 86,
     "metadata": {},
     "output_type": "execute_result"
    }
   ],
   "source": [
    "model.rsquared_adj"
   ]
  },
  {
   "cell_type": "code",
   "execution_count": 87,
   "metadata": {},
   "outputs": [
    {
     "name": "stdout",
     "output_type": "stream",
     "text": [
      "RMSE Test value : 0.35042541008744227\n"
     ]
    }
   ],
   "source": [
    "y_test_pred=model.predict(X_test)\n",
    "mse_test=mean_squared_error(y_test,y_test_pred)\n",
    "rmse_test=np.sqrt(mse_test)\n",
    "print(\"RMSE Test value :\",rmse_test)"
   ]
  },
  {
   "cell_type": "markdown",
   "metadata": {},
   "source": [
    "# RFE MODEL"
   ]
  },
  {
   "cell_type": "code",
   "execution_count": 88,
   "metadata": {},
   "outputs": [
    {
     "name": "stdout",
     "output_type": "stream",
     "text": [
      "const                    10\n",
      "age                       4\n",
      "dob_day                   3\n",
      "dob_year                  5\n",
      "dob_month                 6\n",
      "tenure                    1\n",
      "friend_count              1\n",
      "friendships_initiated     8\n",
      "likes_received            2\n",
      "mobile_likes              1\n",
      "mobile_likes_received     1\n",
      "www_likes                 1\n",
      "www_likes_received        7\n",
      "male                      9\n",
      "dtype: int32\n"
     ]
    }
   ],
   "source": [
    "X_train,X_test,y_train,y_test=train_test_split(X,y1,random_state=39,test_size=0.3)\n",
    "linreg=LinearRegression()\n",
    "rfe=RFE(estimator=linreg,n_features_to_select=5)\n",
    "rfe_model=rfe.fit(X_train,y_train)\n",
    "feat=pd.Series(data=rfe_model.ranking_,index=X_train.columns)\n",
    "print(feat)"
   ]
  },
  {
   "cell_type": "code",
   "execution_count": 89,
   "metadata": {},
   "outputs": [
    {
     "name": "stdout",
     "output_type": "stream",
     "text": [
      "Index(['tenure', 'friend_count', 'mobile_likes', 'mobile_likes_received',\n",
      "       'www_likes'],\n",
      "      dtype='object')\n"
     ]
    }
   ],
   "source": [
    "signi_feat_rfe = feat[feat==1].index\n",
    "\n",
    "# print the significant features obtained from RFE\n",
    "print(signi_feat_rfe)"
   ]
  },
  {
   "cell_type": "code",
   "execution_count": 90,
   "metadata": {},
   "outputs": [
    {
     "data": {
      "text/html": [
       "<div>\n",
       "<style scoped>\n",
       "    .dataframe tbody tr th:only-of-type {\n",
       "        vertical-align: middle;\n",
       "    }\n",
       "\n",
       "    .dataframe tbody tr th {\n",
       "        vertical-align: top;\n",
       "    }\n",
       "\n",
       "    .dataframe thead th {\n",
       "        text-align: right;\n",
       "    }\n",
       "</style>\n",
       "<table border=\"1\" class=\"dataframe\">\n",
       "  <thead>\n",
       "    <tr style=\"text-align: right;\">\n",
       "      <th></th>\n",
       "      <th>const</th>\n",
       "      <th>dob_day</th>\n",
       "      <th>friend_count</th>\n",
       "      <th>friendships_initiated</th>\n",
       "      <th>mobile_likes</th>\n",
       "      <th>www_likes</th>\n",
       "    </tr>\n",
       "  </thead>\n",
       "  <tbody>\n",
       "    <tr>\n",
       "      <th>2007</th>\n",
       "      <td>1.0</td>\n",
       "      <td>-1.314345</td>\n",
       "      <td>1.403324</td>\n",
       "      <td>0.440087</td>\n",
       "      <td>0.627034</td>\n",
       "      <td>-0.074034</td>\n",
       "    </tr>\n",
       "    <tr>\n",
       "      <th>970</th>\n",
       "      <td>1.0</td>\n",
       "      <td>0.417198</td>\n",
       "      <td>-0.028584</td>\n",
       "      <td>0.440087</td>\n",
       "      <td>-0.107442</td>\n",
       "      <td>-0.185696</td>\n",
       "    </tr>\n",
       "    <tr>\n",
       "      <th>1434</th>\n",
       "      <td>1.0</td>\n",
       "      <td>-0.773238</td>\n",
       "      <td>0.687370</td>\n",
       "      <td>1.245255</td>\n",
       "      <td>-0.107442</td>\n",
       "      <td>-0.167086</td>\n",
       "    </tr>\n",
       "    <tr>\n",
       "      <th>1258</th>\n",
       "      <td>1.0</td>\n",
       "      <td>1.282969</td>\n",
       "      <td>-0.028584</td>\n",
       "      <td>0.440087</td>\n",
       "      <td>-0.113885</td>\n",
       "      <td>0.335392</td>\n",
       "    </tr>\n",
       "    <tr>\n",
       "      <th>733</th>\n",
       "      <td>1.0</td>\n",
       "      <td>-1.314345</td>\n",
       "      <td>-0.744537</td>\n",
       "      <td>-1.170249</td>\n",
       "      <td>-0.030129</td>\n",
       "      <td>-0.185696</td>\n",
       "    </tr>\n",
       "  </tbody>\n",
       "</table>\n",
       "</div>"
      ],
      "text/plain": [
       "      const   dob_day  friend_count  friendships_initiated  mobile_likes  \\\n",
       "2007    1.0 -1.314345      1.403324               0.440087      0.627034   \n",
       "970     1.0  0.417198     -0.028584               0.440087     -0.107442   \n",
       "1434    1.0 -0.773238      0.687370               1.245255     -0.107442   \n",
       "1258    1.0  1.282969     -0.028584               0.440087     -0.113885   \n",
       "733     1.0 -1.314345     -0.744537              -1.170249     -0.030129   \n",
       "\n",
       "      www_likes  \n",
       "2007  -0.074034  \n",
       "970   -0.185696  \n",
       "1434  -0.167086  \n",
       "1258   0.335392  \n",
       "733   -0.185696  "
      ]
     },
     "execution_count": 90,
     "metadata": {},
     "output_type": "execute_result"
    }
   ],
   "source": [
    "new_X_train = X_train[['dob_day', 'friend_count', 'friendships_initiated', 'mobile_likes',\n",
    "       'www_likes']]\n",
    "new_X_train=sm.add_constant(new_X_train)\n",
    "new_X_train.head()"
   ]
  },
  {
   "cell_type": "code",
   "execution_count": 91,
   "metadata": {},
   "outputs": [
    {
     "name": "stdout",
     "output_type": "stream",
     "text": [
      "                            OLS Regression Results                            \n",
      "==============================================================================\n",
      "Dep. Variable:                  likes   R-squared:                       1.000\n",
      "Model:                            OLS   Adj. R-squared:                  1.000\n",
      "Method:                 Least Squares   F-statistic:                 4.671e+32\n",
      "Date:                Mon, 23 Aug 2021   Prob (F-statistic):               0.00\n",
      "Time:                        22:00:43   Log-Likelihood:                 48886.\n",
      "No. Observations:                1472   AIC:                        -9.776e+04\n",
      "Df Residuals:                    1466   BIC:                        -9.773e+04\n",
      "Df Model:                           5                                         \n",
      "Covariance Type:            nonrobust                                         \n",
      "=========================================================================================\n",
      "                            coef    std err          t      P>|t|      [0.025      0.975]\n",
      "-----------------------------------------------------------------------------------------\n",
      "const                  1.475e-16   2.39e-17      6.182      0.000    1.01e-16    1.94e-16\n",
      "dob_day                3.469e-17   2.39e-17      1.451      0.147   -1.22e-17    8.16e-17\n",
      "friend_count           1.804e-16   3.84e-17      4.699      0.000    1.05e-16    2.56e-16\n",
      "friendships_initiated -1.041e-16   3.83e-17     -2.716      0.007   -1.79e-16   -2.89e-17\n",
      "mobile_likes              0.9160   2.05e-17   4.47e+16      0.000       0.916       0.916\n",
      "www_likes                 0.3171    2.3e-17   1.38e+16      0.000       0.317       0.317\n",
      "==============================================================================\n",
      "Omnibus:                     3587.400   Durbin-Watson:                   1.951\n",
      "Prob(Omnibus):                  0.000   Jarque-Bera (JB):         30519333.232\n",
      "Skew:                         -24.343   Prob(JB):                         0.00\n",
      "Kurtosis:                     706.724   Cond. No.                         2.89\n",
      "==============================================================================\n",
      "\n",
      "Notes:\n",
      "[1] Standard Errors assume that the covariance matrix of the errors is correctly specified.\n"
     ]
    }
   ],
   "source": [
    "model1=sm.OLS(y_train,new_X_train).fit()\n",
    "print(model1.summary())"
   ]
  },
  {
   "cell_type": "markdown",
   "metadata": {},
   "source": [
    "<h2 class=\"list-group-item list-group-item-action active\" >Linear Regression Assumptions Validation - \n",
    "Linearity, Homoscedasticity, Normality and Outliers</h2>"
   ]
  },
  {
   "cell_type": "markdown",
   "metadata": {},
   "source": [
    "# Linearity of the model"
   ]
  },
  {
   "cell_type": "code",
   "execution_count": 92,
   "metadata": {},
   "outputs": [
    {
     "data": {
      "text/plain": [
       "2007    0.508265\n",
       "970    -0.127466\n",
       "1434   -0.121090\n",
       "1258   -0.130577\n",
       "733    -0.008102\n",
       "          ...   \n",
       "927    -0.144380\n",
       "587    -0.128118\n",
       "388    -0.140645\n",
       "1088   -0.117156\n",
       "105    -0.113605\n",
       "Length: 1472, dtype: float64"
      ]
     },
     "execution_count": 92,
     "metadata": {},
     "output_type": "execute_result"
    }
   ],
   "source": [
    "fitted_values=model.fittedvalues\n",
    "fitted_values"
   ]
  },
  {
   "cell_type": "code",
   "execution_count": 93,
   "metadata": {},
   "outputs": [
    {
     "data": {
      "text/plain": [
       "2007    0.042595\n",
       "970    -0.029830\n",
       "1434   -0.030305\n",
       "1258    0.132616\n",
       "733    -0.078379\n",
       "          ...   \n",
       "927    -0.012916\n",
       "587    -0.011475\n",
       "388    -0.016651\n",
       "1088   -0.028337\n",
       "105    -0.037790\n",
       "Length: 1472, dtype: float64"
      ]
     },
     "execution_count": 93,
     "metadata": {},
     "output_type": "execute_result"
    }
   ],
   "source": [
    "residuals=model.resid\n",
    "residuals"
   ]
  },
  {
   "cell_type": "code",
   "execution_count": 94,
   "metadata": {},
   "outputs": [
    {
     "data": {
      "text/plain": [
       "<AxesSubplot:>"
      ]
     },
     "execution_count": 94,
     "metadata": {},
     "output_type": "execute_result"
    },
    {
     "data": {
      "image/png": "[encoded data removed]",
      "text/plain": [
       "<Figure size 864x576 with 1 Axes>"
      ]
     },
     "metadata": {
      "needs_background": "light"
     },
     "output_type": "display_data"
    }
   ],
   "source": [
    "sns.scatterplot(x=fitted_values,y=residuals)"
   ]
  },
  {
   "cell_type": "markdown",
   "metadata": {},
   "source": [
    "# Homoscedasticity (equal variance) of residuals"
   ]
  },
  {
   "cell_type": "code",
   "execution_count": 95,
   "metadata": {},
   "outputs": [
    {
     "data": {
      "text/plain": [
       "(822.0767948849557,\n",
       " 2.5778747409516978e-167,\n",
       " 167.8844671166089,\n",
       " 7.139520558503988e-250)"
      ]
     },
     "execution_count": 95,
     "metadata": {},
     "output_type": "execute_result"
    }
   ],
   "source": [
    "sms.het_breuschpagan(model.resid, X_train.values)"
   ]
  },
  {
   "cell_type": "markdown",
   "metadata": {},
   "source": [
    "# Normality of residuals"
   ]
  },
  {
   "cell_type": "code",
   "execution_count": 96,
   "metadata": {},
   "outputs": [
    {
     "data": {
      "text/html": [
       "<table class=\"simpletable\">\n",
       "<caption>OLS Regression Results</caption>\n",
       "<tr>\n",
       "  <th>Dep. Variable:</th>          <td>likes</td>      <th>  R-squared:         </th> <td>   0.960</td>\n",
       "</tr>\n",
       "<tr>\n",
       "  <th>Model:</th>                   <td>OLS</td>       <th>  Adj. R-squared:    </th> <td>   0.960</td>\n",
       "</tr>\n",
       "<tr>\n",
       "  <th>Method:</th>             <td>Least Squares</td>  <th>  F-statistic:       </th> <td>   3539.</td>\n",
       "</tr>\n",
       "<tr>\n",
       "  <th>Date:</th>             <td>Mon, 23 Aug 2021</td> <th>  Prob (F-statistic):</th>  <td>  0.00</td> \n",
       "</tr>\n",
       "<tr>\n",
       "  <th>Time:</th>                 <td>22:01:06</td>     <th>  Log-Likelihood:    </th> <td>  77.648</td>\n",
       "</tr>\n",
       "<tr>\n",
       "  <th>No. Observations:</th>      <td>  1472</td>      <th>  AIC:               </th> <td>  -133.3</td>\n",
       "</tr>\n",
       "<tr>\n",
       "  <th>Df Residuals:</th>          <td>  1461</td>      <th>  BIC:               </th> <td>  -75.06</td>\n",
       "</tr>\n",
       "<tr>\n",
       "  <th>Df Model:</th>              <td>    10</td>      <th>                     </th>     <td> </td>   \n",
       "</tr>\n",
       "<tr>\n",
       "  <th>Covariance Type:</th>      <td>nonrobust</td>    <th>                     </th>     <td> </td>   \n",
       "</tr>\n",
       "</table>\n",
       "<table class=\"simpletable\">\n",
       "<tr>\n",
       "            <td></td>               <th>coef</th>     <th>std err</th>      <th>t</th>      <th>P>|t|</th>  <th>[0.025</th>    <th>0.975]</th>  \n",
       "</tr>\n",
       "<tr>\n",
       "  <th>const</th>                 <td>    0.0086</td> <td>    0.010</td> <td>    0.833</td> <td> 0.405</td> <td>   -0.012</td> <td>    0.029</td>\n",
       "</tr>\n",
       "<tr>\n",
       "  <th>age</th>                   <td>   -0.0025</td> <td>    0.003</td> <td>   -0.798</td> <td> 0.425</td> <td>   -0.009</td> <td>    0.004</td>\n",
       "</tr>\n",
       "<tr>\n",
       "  <th>dob_day</th>               <td>    0.0064</td> <td>    0.006</td> <td>    1.037</td> <td> 0.300</td> <td>   -0.006</td> <td>    0.019</td>\n",
       "</tr>\n",
       "<tr>\n",
       "  <th>dob_year</th>              <td>    0.0025</td> <td>    0.003</td> <td>    0.798</td> <td> 0.425</td> <td>   -0.004</td> <td>    0.009</td>\n",
       "</tr>\n",
       "<tr>\n",
       "  <th>dob_month</th>             <td>    0.0023</td> <td>    0.006</td> <td>    0.359</td> <td> 0.719</td> <td>   -0.010</td> <td>    0.015</td>\n",
       "</tr>\n",
       "<tr>\n",
       "  <th>tenure</th>                <td>    0.0022</td> <td>    0.006</td> <td>    0.356</td> <td> 0.722</td> <td>   -0.010</td> <td>    0.014</td>\n",
       "</tr>\n",
       "<tr>\n",
       "  <th>friend_count</th>          <td>   -0.0014</td> <td>    0.010</td> <td>   -0.145</td> <td> 0.884</td> <td>   -0.021</td> <td>    0.018</td>\n",
       "</tr>\n",
       "<tr>\n",
       "  <th>friendships_initiated</th> <td>    0.0041</td> <td>    0.010</td> <td>    0.421</td> <td> 0.674</td> <td>   -0.015</td> <td>    0.023</td>\n",
       "</tr>\n",
       "<tr>\n",
       "  <th>mobile_likes</th>          <td>    0.8986</td> <td>    0.005</td> <td>  170.452</td> <td> 0.000</td> <td>    0.888</td> <td>    0.909</td>\n",
       "</tr>\n",
       "<tr>\n",
       "  <th>mobile_likes_received</th> <td>   -0.0139</td> <td>    0.008</td> <td>   -1.637</td> <td> 0.102</td> <td>   -0.031</td> <td>    0.003</td>\n",
       "</tr>\n",
       "<tr>\n",
       "  <th>www_likes_received</th>    <td>    0.2480</td> <td>    0.010</td> <td>   25.831</td> <td> 0.000</td> <td>    0.229</td> <td>    0.267</td>\n",
       "</tr>\n",
       "<tr>\n",
       "  <th>male</th>                  <td>   -0.0103</td> <td>    0.013</td> <td>   -0.811</td> <td> 0.418</td> <td>   -0.035</td> <td>    0.015</td>\n",
       "</tr>\n",
       "</table>\n",
       "<table class=\"simpletable\">\n",
       "<tr>\n",
       "  <th>Omnibus:</th>       <td>1381.908</td> <th>  Durbin-Watson:     </th>  <td>   1.928</td> \n",
       "</tr>\n",
       "<tr>\n",
       "  <th>Prob(Omnibus):</th>  <td> 0.000</td>  <th>  Jarque-Bera (JB):  </th> <td>318980.465</td>\n",
       "</tr>\n",
       "<tr>\n",
       "  <th>Skew:</th>           <td> 3.715</td>  <th>  Prob(JB):          </th>  <td>    0.00</td> \n",
       "</tr>\n",
       "<tr>\n",
       "  <th>Kurtosis:</th>       <td>74.733</td>  <th>  Cond. No.          </th>  <td>5.67e+15</td> \n",
       "</tr>\n",
       "</table><br/><br/>Notes:<br/>[1] Standard Errors assume that the covariance matrix of the errors is correctly specified.<br/>[2] The smallest eigenvalue is 1.03e-28. This might indicate that there are<br/>strong multicollinearity problems or that the design matrix is singular."
      ],
      "text/plain": [
       "<class 'statsmodels.iolib.summary.Summary'>\n",
       "\"\"\"\n",
       "                            OLS Regression Results                            \n",
       "==============================================================================\n",
       "Dep. Variable:                  likes   R-squared:                       0.960\n",
       "Model:                            OLS   Adj. R-squared:                  0.960\n",
       "Method:                 Least Squares   F-statistic:                     3539.\n",
       "Date:                Mon, 23 Aug 2021   Prob (F-statistic):               0.00\n",
       "Time:                        22:01:06   Log-Likelihood:                 77.648\n",
       "No. Observations:                1472   AIC:                            -133.3\n",
       "Df Residuals:                    1461   BIC:                            -75.06\n",
       "Df Model:                          10                                         \n",
       "Covariance Type:            nonrobust                                         \n",
       "=========================================================================================\n",
       "                            coef    std err          t      P>|t|      [0.025      0.975]\n",
       "-----------------------------------------------------------------------------------------\n",
       "const                     0.0086      0.010      0.833      0.405      -0.012       0.029\n",
       "age                      -0.0025      0.003     -0.798      0.425      -0.009       0.004\n",
       "dob_day                   0.0064      0.006      1.037      0.300      -0.006       0.019\n",
       "dob_year                  0.0025      0.003      0.798      0.425      -0.004       0.009\n",
       "dob_month                 0.0023      0.006      0.359      0.719      -0.010       0.015\n",
       "tenure                    0.0022      0.006      0.356      0.722      -0.010       0.014\n",
       "friend_count             -0.0014      0.010     -0.145      0.884      -0.021       0.018\n",
       "friendships_initiated     0.0041      0.010      0.421      0.674      -0.015       0.023\n",
       "mobile_likes              0.8986      0.005    170.452      0.000       0.888       0.909\n",
       "mobile_likes_received    -0.0139      0.008     -1.637      0.102      -0.031       0.003\n",
       "www_likes_received        0.2480      0.010     25.831      0.000       0.229       0.267\n",
       "male                     -0.0103      0.013     -0.811      0.418      -0.035       0.015\n",
       "==============================================================================\n",
       "Omnibus:                     1381.908   Durbin-Watson:                   1.928\n",
       "Prob(Omnibus):                  0.000   Jarque-Bera (JB):           318980.465\n",
       "Skew:                           3.715   Prob(JB):                         0.00\n",
       "Kurtosis:                      74.733   Cond. No.                     5.67e+15\n",
       "==============================================================================\n",
       "\n",
       "Notes:\n",
       "[1] Standard Errors assume that the covariance matrix of the errors is correctly specified.\n",
       "[2] The smallest eigenvalue is 1.03e-28. This might indicate that there are\n",
       "strong multicollinearity problems or that the design matrix is singular.\n",
       "\"\"\""
      ]
     },
     "execution_count": 96,
     "metadata": {},
     "output_type": "execute_result"
    }
   ],
   "source": [
    "model.summary()"
   ]
  },
  {
   "cell_type": "code",
   "execution_count": 97,
   "metadata": {},
   "outputs": [
    {
     "data": {
      "text/plain": [
       "Text(0.5, 1.0, 'Normality of Residuals:')"
      ]
     },
     "execution_count": 97,
     "metadata": {},
     "output_type": "execute_result"
    },
    {
     "data": {
      "image/png": "[encoded data removed]",
      "text/plain": [
       "<Figure size 864x576 with 1 Axes>"
      ]
     },
     "metadata": {
      "needs_background": "light"
     },
     "output_type": "display_data"
    }
   ],
   "source": [
    "qqplot(model.resid,line='r')\n",
    "plt.title(\"Normality of Residuals:\",fontsize=20)"
   ]
  },
  {
   "cell_type": "code",
   "execution_count": 98,
   "metadata": {},
   "outputs": [
    {
     "data": {
      "text/plain": [
       "ShapiroResult(statistic=0.3342168927192688, pvalue=0.0)"
      ]
     },
     "execution_count": 98,
     "metadata": {},
     "output_type": "execute_result"
    }
   ],
   "source": [
    "shapiro(model.resid)"
   ]
  },
  {
   "cell_type": "markdown",
   "metadata": {},
   "source": [
    "# Identifying Outliers/influential Cases"
   ]
  },
  {
   "cell_type": "code",
   "execution_count": 99,
   "metadata": {},
   "outputs": [
    {
     "data": {
      "text/plain": [
       "Index(['age', 'dob_day', 'dob_year', 'dob_month', 'tenure', 'friend_count',\n",
       "       'friendships_initiated', 'likes', 'likes_received', 'mobile_likes',\n",
       "       'mobile_likes_received', 'www_likes', 'www_likes_received'],\n",
       "      dtype='object')"
      ]
     },
     "execution_count": 99,
     "metadata": {},
     "output_type": "execute_result"
    }
   ],
   "source": [
    "a=mydf.iloc[:,[0,1,2,3,5,6,7,8,9,10,11,12,13]]\n",
    "a.columns"
   ]
  },
  {
   "cell_type": "code",
   "execution_count": 100,
   "metadata": {},
   "outputs": [
    {
     "data": {
      "image/png": "[encoded data removed]",
      "text/plain": [
       "<Figure size 1008x1152 with 14 Axes>"
      ]
     },
     "metadata": {
      "needs_background": "light"
     },
     "output_type": "display_data"
    }
   ],
   "source": [
    "fig,ax=plt.subplots(7,2,figsize=(14,16))\n",
    "for variable,subplot in zip(a.columns,ax.flatten()):\n",
    "    sns.boxplot(mydf[variable],ax=subplot)\n",
    "    plt.tight_layout()"
   ]
  },
  {
   "cell_type": "code",
   "execution_count": 311,
   "metadata": {},
   "outputs": [
    {
     "data": {
      "text/plain": [
       "(2104, 14)"
      ]
     },
     "execution_count": 311,
     "metadata": {},
     "output_type": "execute_result"
    }
   ],
   "source": [
    "mydf.shape"
   ]
  },
  {
   "cell_type": "code",
   "execution_count": 104,
   "metadata": {},
   "outputs": [
    {
     "data": {
      "text/plain": [
       "(1178, 14)"
      ]
     },
     "execution_count": 104,
     "metadata": {},
     "output_type": "execute_result"
    }
   ],
   "source": [
    "q1=mydf.quantile(0.25)\n",
    "q3=mydf.quantile(0.75)\n",
    "iqr=q3-q1\n",
    "mydf_out=mydf[~((mydf<(q1-1.5*iqr))|(mydf>(q3+1.5*iqr))).any(axis=1)]\n",
    "mydf_out.shape"
   ]
  },
  {
   "cell_type": "markdown",
   "metadata": {},
   "source": [
    "<h2 class=\"list-group-item list-group-item-action active\" >Rebuilding the Model: Feature Selection using RFE & K-Fold Cross Validation</h2>"
   ]
  },
  {
   "cell_type": "code",
   "execution_count": 105,
   "metadata": {},
   "outputs": [
    {
     "name": "stdout",
     "output_type": "stream",
     "text": [
      "const                    10\n",
      "age                       4\n",
      "dob_day                   3\n",
      "dob_year                  5\n",
      "dob_month                 6\n",
      "tenure                    1\n",
      "friend_count              1\n",
      "friendships_initiated     8\n",
      "likes_received            2\n",
      "mobile_likes              1\n",
      "mobile_likes_received     1\n",
      "www_likes                 1\n",
      "www_likes_received        7\n",
      "male                      9\n",
      "dtype: int32\n",
      "Index(['tenure', 'friend_count', 'mobile_likes', 'mobile_likes_received',\n",
      "       'www_likes'],\n",
      "      dtype='object')\n",
      "5\n"
     ]
    }
   ],
   "source": [
    "from sklearn.feature_selection import RFECV\n",
    "rfecv = RFECV(estimator=LinearRegression())# an instance of rfecv\n",
    "rfe_model = rfe_model.fit(X_train, y_train)       #fit the model\n",
    "\n",
    "feat_index = pd.Series(data = rfe_model.ranking_, index = X_train.columns)\n",
    "print(feat_index)# ranking of each feature\n",
    "signi_feat_rfe = feat_index[feat_index==1].index\n",
    "\n",
    "# print the significant features obtained from RFE\n",
    "print(signi_feat_rfe)\n",
    "print(rfe_model.n_features_)"
   ]
  },
  {
   "cell_type": "code",
   "execution_count": 106,
   "metadata": {},
   "outputs": [],
   "source": [
    "new=X_train[['dob_day', 'friend_count', 'friendships_initiated', 'mobile_likes',\n",
    "       'www_likes']]\n",
    "\n",
    "k=KFold(n_splits=10, shuffle=True, random_state=3)\n",
    "\n",
    "scores = cross_val_score(estimator = LinearRegression(), \n",
    "                         X = new, \n",
    "                         y = y_train, \n",
    "                         cv = k, \n",
    "                         scoring = 'r2')"
   ]
  },
  {
   "cell_type": "code",
   "execution_count": 107,
   "metadata": {},
   "outputs": [
    {
     "name": "stdout",
     "output_type": "stream",
     "text": [
      "All scores:  [1. 1. 1. 1. 1. 1. 1. 1. 1. 1.]\n",
      "\n",
      "Minimum score obtained:  1.0\n",
      "Maximum score obtained:  1.0\n",
      "Average score obtained:  1.0\n"
     ]
    }
   ],
   "source": [
    "print('All scores: ', scores)\n",
    "\n",
    "# print the minimum score from the list\n",
    "# use 'round()' to round-off the minimum score upto 4 digits\n",
    "# min() returns minimum score \n",
    "print(\"\\nMinimum score obtained: \", round(min(scores), 4))\n",
    "\n",
    "# print the maximum score from the list\n",
    "# use 'round()' to round-off the maximum score upto 4 digits\n",
    "# max() returns maximum score \n",
    "print(\"Maximum score obtained: \", round(max(scores), 4))\n",
    "\n",
    "# print the average score from the list\n",
    "# use 'round()' to round-off the average score upto 4 digits\n",
    "# np.mean() returns average score \n",
    "print(\"Average score obtained: \", round(np.mean(scores), 4))"
   ]
  }
 ],
 "metadata": {
  "kernelspec": {
   "display_name": "Python 3 (ipykernel)",
   "language": "python",
   "name": "python3"
  },
  "language_info": {
   "codemirror_mode": {
    "name": "ipython",
    "version": 3
   },
   "file_extension": ".py",
   "mimetype": "text/x-python",
   "name": "python",
   "nbconvert_exporter": "python",
   "pygments_lexer": "ipython3",
   "version": "3.9.7"
  }
 },
 "nbformat": 4,
 "nbformat_minor": 4
}
